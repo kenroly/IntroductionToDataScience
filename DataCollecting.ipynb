{
 "cells": [
  {
   "cell_type": "markdown",
   "metadata": {},
   "source": [
    "# 0. Import Library"
   ]
  },
  {
   "cell_type": "code",
   "execution_count": null,
   "metadata": {},
   "outputs": [],
   "source": [
    "import pandas as pd\n",
    "import requests \n",
    "from bs4 import BeautifulSoup"
   ]
  },
  {
   "cell_type": "markdown",
   "metadata": {},
   "source": [
    "# 1. Data Collecting"
   ]
  },
  {
   "cell_type": "code",
   "execution_count": null,
   "metadata": {},
   "outputs": [],
   "source": [
    "url = 'https://www.ft.com/ft1000-2022'\n",
    "r = requests.get(url)\n",
    "soup = BeautifulSoup(r.text, 'html.parser')\n",
    "js = pd.read_html(str(soup.find_all('table')))"
   ]
  },
  {
   "cell_type": "code",
   "execution_count": null,
   "metadata": {},
   "outputs": [],
   "source": [
    "df = pd.DataFrame(js[0])\n",
    "df"
   ]
  },
  {
   "cell_type": "code",
   "execution_count": null,
   "metadata": {},
   "outputs": [],
   "source": [
    "df.to_csv('data/FT1000_v0.csv', index = False)"
   ]
  },
  {
   "cell_type": "markdown",
   "metadata": {},
   "source": [
    "### Về Dataset:  Danh sách 1000 công ty tăng trưởng nhanh nhất Châu Âu \n",
    "\n",
    "Dataset được scrape từ bài báo `Special Report FT 1000: Europe's Fastest Growing Companies` ở trang `Financial Times`, một nhật báo ở lĩnh vực kinh tế tài chính. Báo cáo này cho thấy sự thay đổi trong sự tăng trưởng của các công ty trong giai đoạn Covid 2020/\n",
    "\n",
    "Những công ty được chọn là những công ty đã phát triển đủ để vượt qua giai doạn khó khăn bởi Covid, Brexit và đóng băng chuỗi cung ứng toàn cầu. \n",
    "\n",
    "#### Phương pháp luận thu thập dữ liệu\n",
    "\n",
    "`FT 1000: Europe's Fastest Growing Companies` là danh sách gồm 1000 công ty ở Châu Âu đạt mức trăng trưởng doanh thu cao nhất trong giai đoạn 2017 - 2020. Tuy nhiên danh sách này cũng không thể hiện sự tăng trưởng thực tế của tất cả các công ty ở Châu Âu nho có một vài công ty không tham gia khảo sát vì vấn đề bảo mật thông tin cũng như một vài lí do khác.\n",
    "\n",
    "Dự án được tiến hành từ 1/10/2021 tới 31/12/2021 thông qua việc điền form khảo sát online và trên giấy, cho phép các công ty đăng kí thông qua website của `Statista` và `Financial Times`. Ngoài ra thông qua nghiên cứu các dữ liệu công khai, `Statista` xác định top 10000 công ty tiềm năng trở thành top 1000 và mời các công ty này tham gia.\n",
    "\n",
    "Các thông số về doanh thu phải được xác nhận bởi các giám đốc điều hành, giám đốc tài chính và các thành viên khác trong ban điều hành của công ty. Đối với những công ty chỉ với 3 thành viên hoặc ít hơn, doanh thu của họ sẽ được kiểm tra thêm\n",
    "\n",
    "#### Điều kiện để trở thành top 1000\n",
    "\n",
    "Để lọt vào danh sách các công ty phát triển nhanh nhất Châu Âu, một công ty cần thỏa các điều kiện sau:\n",
    "- Doanh thu ít nhất 100,000 Euro (hoặc đơn vị tiền tệ tương đương) năm 2017 \n",
    "- Doanh thu ít nhất 1.5 triệu Euro (hoặc đơn vị tiền tệ tương đương) năm 2020\n",
    "- Là công ty độc lập (không phải công ty con hoặc chi nhánh văn phòng của công ty khác dưới bất kì hình thức nào)\n",
    "- Nếu công ty được lên sàn chứng khoán, giá cổ phiếu không được giảm từ 50% trở lên kể từ năm 2019\n",
    "- Một vài điều kiện về doanh thu khác mà nhóm chưa dịch được\n",
    "\n",
    "#### Công thức tính tỉ lệ tăng trưởng\n",
    "\n",
    "- Tỉ lệ tăng trưởng kép hàng năm (Compound Annual Growth Rate) - CAGR: \n",
    "\n",
    "$$\n",
    "CAGR = \\frac{\\text{Doanh thu năm 2020}}{\\text{Doanh thu năm 2017}} ^ \\frac{1}{3}\n",
    "$$\n",
    "\n",
    "- Tỉ lệ tăng trưởng tuyệt đối (Absolute growth):\n",
    "\n",
    "$$\n",
    "\\frac{\\text{Doanh thu năm 2020}}{\\text{Doanh thu năm 2017}} - 1\n",
    "$$\n",
    "\n",
    "Ý nghĩa của các tỉ lệ này sẽ được giải thích ở phần Data Preprocessing\n",
    "\n",
    "#### Đánh giá và đảm báo chất lượng dữ liệu\n",
    "Tất cả dữ liệu được báo cáo bởi các công ty đã được xử lí và kiểm tra bởi Statista. Các trường dữ liệu khuyết đều được nghiên cứu kĩ lưỡng. Các công ti không đạt đủ điều kiện nêu ở trên sẽ bị loại. Tỉ lệ tăng trưởng tuyệt đối thấp nhất để được xếp hạng ở đợt này (2021) là 36.5%"
   ]
  }
 ],
 "metadata": {
  "kernelspec": {
   "display_name": "Python 3.10.6 64-bit",
   "language": "python",
   "name": "python3"
  },
  "language_info": {
   "codemirror_mode": {
    "name": "ipython",
    "version": 3
   },
   "file_extension": ".py",
   "mimetype": "text/x-python",
   "name": "python",
   "nbconvert_exporter": "python",
   "pygments_lexer": "ipython3",
   "version": "3.10.6"
  },
  "orig_nbformat": 4,
  "vscode": {
   "interpreter": {
    "hash": "916dbcbb3f70747c44a77c7bcd40155683ae19c65e1c03b4aa3499c5328201f1"
   }
  }
 },
 "nbformat": 4,
 "nbformat_minor": 2
}
