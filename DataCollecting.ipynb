{
 "cells": [
  {
   "cell_type": "markdown",
   "metadata": {},
   "source": [
    "# 0. Import Library"
   ]
  },
  {
   "cell_type": "code",
   "execution_count": 3,
   "metadata": {},
   "outputs": [],
   "source": [
    "import pandas as pd\n",
    "import requests \n",
    "from bs4 import BeautifulSoup"
   ]
  },
  {
   "cell_type": "markdown",
   "metadata": {},
   "source": [
    "# 1. Data Collecting"
   ]
  },
  {
   "cell_type": "code",
   "execution_count": 5,
   "metadata": {},
   "outputs": [
    {
     "ename": "ImportError",
     "evalue": "lxml not found, please install it",
     "output_type": "error",
     "traceback": [
      "\u001b[0;31m---------------------------------------------------------------------------\u001b[0m",
      "\u001b[0;31mImportError\u001b[0m                               Traceback (most recent call last)",
      "Cell \u001b[0;32mIn [5], line 4\u001b[0m\n\u001b[1;32m      2\u001b[0m r \u001b[39m=\u001b[39m requests\u001b[39m.\u001b[39mget(url)\n\u001b[1;32m      3\u001b[0m soup \u001b[39m=\u001b[39m BeautifulSoup(r\u001b[39m.\u001b[39mtext, \u001b[39m'\u001b[39m\u001b[39mhtml.parser\u001b[39m\u001b[39m'\u001b[39m)\n\u001b[0;32m----> 4\u001b[0m js \u001b[39m=\u001b[39m pd\u001b[39m.\u001b[39;49mread_html(\u001b[39mstr\u001b[39;49m(soup\u001b[39m.\u001b[39;49mfind_all(\u001b[39m'\u001b[39;49m\u001b[39mtable\u001b[39;49m\u001b[39m'\u001b[39;49m)))\n",
      "File \u001b[0;32m/usr/local/lib/python3.10/dist-packages/pandas/util/_decorators.py:331\u001b[0m, in \u001b[0;36mdeprecate_nonkeyword_arguments.<locals>.decorate.<locals>.wrapper\u001b[0;34m(*args, **kwargs)\u001b[0m\n\u001b[1;32m    325\u001b[0m \u001b[39mif\u001b[39;00m \u001b[39mlen\u001b[39m(args) \u001b[39m>\u001b[39m num_allow_args:\n\u001b[1;32m    326\u001b[0m     warnings\u001b[39m.\u001b[39mwarn(\n\u001b[1;32m    327\u001b[0m         msg\u001b[39m.\u001b[39mformat(arguments\u001b[39m=\u001b[39m_format_argument_list(allow_args)),\n\u001b[1;32m    328\u001b[0m         \u001b[39mFutureWarning\u001b[39;00m,\n\u001b[1;32m    329\u001b[0m         stacklevel\u001b[39m=\u001b[39mfind_stack_level(),\n\u001b[1;32m    330\u001b[0m     )\n\u001b[0;32m--> 331\u001b[0m \u001b[39mreturn\u001b[39;00m func(\u001b[39m*\u001b[39;49margs, \u001b[39m*\u001b[39;49m\u001b[39m*\u001b[39;49mkwargs)\n",
      "File \u001b[0;32m/usr/local/lib/python3.10/dist-packages/pandas/io/html.py:1205\u001b[0m, in \u001b[0;36mread_html\u001b[0;34m(io, match, flavor, header, index_col, skiprows, attrs, parse_dates, thousands, encoding, decimal, converters, na_values, keep_default_na, displayed_only, extract_links)\u001b[0m\n\u001b[1;32m   1201\u001b[0m validate_header_arg(header)\n\u001b[1;32m   1203\u001b[0m io \u001b[39m=\u001b[39m stringify_path(io)\n\u001b[0;32m-> 1205\u001b[0m \u001b[39mreturn\u001b[39;00m _parse(\n\u001b[1;32m   1206\u001b[0m     flavor\u001b[39m=\u001b[39;49mflavor,\n\u001b[1;32m   1207\u001b[0m     io\u001b[39m=\u001b[39;49mio,\n\u001b[1;32m   1208\u001b[0m     match\u001b[39m=\u001b[39;49mmatch,\n\u001b[1;32m   1209\u001b[0m     header\u001b[39m=\u001b[39;49mheader,\n\u001b[1;32m   1210\u001b[0m     index_col\u001b[39m=\u001b[39;49mindex_col,\n\u001b[1;32m   1211\u001b[0m     skiprows\u001b[39m=\u001b[39;49mskiprows,\n\u001b[1;32m   1212\u001b[0m     parse_dates\u001b[39m=\u001b[39;49mparse_dates,\n\u001b[1;32m   1213\u001b[0m     thousands\u001b[39m=\u001b[39;49mthousands,\n\u001b[1;32m   1214\u001b[0m     attrs\u001b[39m=\u001b[39;49mattrs,\n\u001b[1;32m   1215\u001b[0m     encoding\u001b[39m=\u001b[39;49mencoding,\n\u001b[1;32m   1216\u001b[0m     decimal\u001b[39m=\u001b[39;49mdecimal,\n\u001b[1;32m   1217\u001b[0m     converters\u001b[39m=\u001b[39;49mconverters,\n\u001b[1;32m   1218\u001b[0m     na_values\u001b[39m=\u001b[39;49mna_values,\n\u001b[1;32m   1219\u001b[0m     keep_default_na\u001b[39m=\u001b[39;49mkeep_default_na,\n\u001b[1;32m   1220\u001b[0m     displayed_only\u001b[39m=\u001b[39;49mdisplayed_only,\n\u001b[1;32m   1221\u001b[0m     extract_links\u001b[39m=\u001b[39;49mextract_links,\n\u001b[1;32m   1222\u001b[0m )\n",
      "File \u001b[0;32m/usr/local/lib/python3.10/dist-packages/pandas/io/html.py:982\u001b[0m, in \u001b[0;36m_parse\u001b[0;34m(flavor, io, match, attrs, encoding, displayed_only, extract_links, **kwargs)\u001b[0m\n\u001b[1;32m    980\u001b[0m retained \u001b[39m=\u001b[39m \u001b[39mNone\u001b[39;00m\n\u001b[1;32m    981\u001b[0m \u001b[39mfor\u001b[39;00m flav \u001b[39min\u001b[39;00m flavor:\n\u001b[0;32m--> 982\u001b[0m     parser \u001b[39m=\u001b[39m _parser_dispatch(flav)\n\u001b[1;32m    983\u001b[0m     p \u001b[39m=\u001b[39m parser(io, compiled_match, attrs, encoding, displayed_only, extract_links)\n\u001b[1;32m    985\u001b[0m     \u001b[39mtry\u001b[39;00m:\n",
      "File \u001b[0;32m/usr/local/lib/python3.10/dist-packages/pandas/io/html.py:939\u001b[0m, in \u001b[0;36m_parser_dispatch\u001b[0;34m(flavor)\u001b[0m\n\u001b[1;32m    937\u001b[0m \u001b[39melse\u001b[39;00m:\n\u001b[1;32m    938\u001b[0m     \u001b[39mif\u001b[39;00m \u001b[39mnot\u001b[39;00m _HAS_LXML:\n\u001b[0;32m--> 939\u001b[0m         \u001b[39mraise\u001b[39;00m \u001b[39mImportError\u001b[39;00m(\u001b[39m\"\u001b[39m\u001b[39mlxml not found, please install it\u001b[39m\u001b[39m\"\u001b[39m)\n\u001b[1;32m    940\u001b[0m \u001b[39mreturn\u001b[39;00m _valid_parsers[flavor]\n",
      "\u001b[0;31mImportError\u001b[0m: lxml not found, please install it"
     ]
    }
   ],
   "source": [
    "url = 'https://www.ft.com/ft1000-2022'\n",
    "r = requests.get(url)\n",
    "soup = BeautifulSoup(r.text, 'html.parser')\n",
    "js = pd.read_html(str(soup.find_all('table')))"
   ]
  },
  {
   "cell_type": "code",
   "execution_count": null,
   "metadata": {},
   "outputs": [],
   "source": [
    "df = pd.DataFrame(js[0])\n",
    "df"
   ]
  },
  {
   "cell_type": "code",
   "execution_count": null,
   "metadata": {},
   "outputs": [],
   "source": [
    "df.to_csv('data/FT1000_v0.csv', index = False)"
   ]
  },
  {
   "cell_type": "markdown",
   "metadata": {},
   "source": [
    "### Về Dataset:  Danh sách 1000 công ty tăng trưởng nhanh nhất Châu Âu \n",
    "\n",
    "Dataset được scrape từ bài báo `Special Report FT 1000: Europe's Fastest Growing Companies` ở trang `Financial Times`, một nhật báo ở lĩnh vực kinh tế tài chính. Báo cáo này cho thấy sự thay đổi trong sự tăng trưởng của các công ty trong giai đoạn Covid 2020/\n",
    "\n",
    "Những công ty được chọn là những công ty đã phát triển đủ để vượt qua giai doạn khó khăn bởi Covid, Brexit và đóng băng chuỗi cung ứng toàn cầu. \n",
    "\n",
    "#### Phương pháp luận thu thập dữ liệu\n",
    "\n",
    "`FT 1000: Europe's Fastest Growing Companies` là danh sách gồm 1000 công ty ở Châu Âu đạt mức trăng trưởng doanh thu cao nhất trong giai đoạn 2017 - 2020. Tuy nhiên danh sách này cũng không thể hiện sự tăng trưởng thực tế của tất cả các công ty ở Châu Âu nho có một vài công ty không tham gia khảo sát vì vấn đề bảo mật thông tin cũng như một vài lí do khác.\n",
    "\n",
    "Dự án được tiến hành từ 1/10/2021 tới 31/12/2021 thông qua việc điền form khảo sát online và trên giấy, cho phép các công ty đăng kí thông qua website của `Statista` và `Financial Times`. Ngoài ra thông qua nghiên cứu các dữ liệu công khai, `Statista` xác định top 10000 công ty tiềm năng trở thành top 1000 và mời các công ty này tham gia.\n",
    "\n",
    "Các thông số về doanh thu phải được xác nhận bởi các giám đốc điều hành, giám đốc tài chính và các thành viên khác trong ban điều hành của công ty. Đối với những công ty chỉ với 3 thành viên hoặc ít hơn, doanh thu của họ sẽ được kiểm tra thêm\n",
    "\n",
    "#### Điều kiện để trở thành top 1000\n",
    "\n",
    "Để lọt vào danh sách các công ty phát triển nhanh nhất Châu Âu, một công ty cần thỏa các điều kiện sau:\n",
    "- Doanh thu ít nhất 100,000 Euro (hoặc đơn vị tiền tệ tương đương) năm 2017 \n",
    "- Doanh thu ít nhất 1.5 triệu Euro (hoặc đơn vị tiền tệ tương đương) năm 2020\n",
    "- Là công ty độc lập (không phải công ty con hoặc chi nhánh văn phòng của công ty khác dưới bất kì hình thức nào)\n",
    "- Nếu công ty được lên sàn chứng khoán, giá cổ phiếu không được giảm từ 50% trở lên kể từ năm 2019\n",
    "- Một vài điều kiện về doanh thu khác mà nhóm chưa dịch được\n",
    "\n",
    "#### Công thức tính tỉ lệ tăng trưởng\n",
    "\n",
    "- Tỉ lệ tăng trưởng kép hàng năm (Compound Annual Growth Rate) - CAGR: \n",
    "\n",
    "$$\n",
    "CAGR = \\frac{\\text{Doanh thu năm 2020}}{\\text{Doanh thu năm 2017}} ^ \\frac{1}{3}\n",
    "$$\n",
    "\n",
    "- Tỉ lệ tăng trưởng tuyệt đối (Absolute growth):\n",
    "\n",
    "$$\n",
    "\\frac{\\text{Doanh thu năm 2020}}{\\text{Doanh thu năm 2017}} - 1\n",
    "$$\n",
    "\n",
    "Ý nghĩa của các tỉ lệ này sẽ được giải thích ở phần Data Preprocessing\n",
    "\n",
    "#### Đánh giá và đảm báo chất lượng dữ liệu\n",
    "Tất cả dữ liệu được báo cáo bởi các công ty đã được xử lí và kiểm tra bởi Statista. Các trường dữ liệu khuyết đều được nghiên cứu kĩ lưỡng. Các công ti không đạt đủ điều kiện nêu ở trên sẽ bị loại. Tỉ lệ tăng trưởng tuyệt đối thấp nhất để được xếp hạng ở đợt này (2021) là 36.5%"
   ]
  }
 ],
 "metadata": {
  "kernelspec": {
   "display_name": "Python 3.10.6 64-bit",
   "language": "python",
   "name": "python3"
  },
  "language_info": {
   "codemirror_mode": {
    "name": "ipython",
    "version": 3
   },
   "file_extension": ".py",
   "mimetype": "text/x-python",
   "name": "python",
   "nbconvert_exporter": "python",
   "pygments_lexer": "ipython3",
   "version": "3.10.6"
  },
  "orig_nbformat": 4,
  "vscode": {
   "interpreter": {
    "hash": "916dbcbb3f70747c44a77c7bcd40155683ae19c65e1c03b4aa3499c5328201f1"
   }
  }
 },
 "nbformat": 4,
 "nbformat_minor": 2
}
