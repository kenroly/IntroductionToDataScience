{
 "cells": [
  {
   "cell_type": "markdown",
   "metadata": {},
   "source": [
    "# 0. Import Library"
   ]
  },
  {
   "cell_type": "code",
   "execution_count": null,
   "metadata": {},
   "outputs": [],
   "source": [
    "import pandas as pd\n",
    "import numpy as np\n",
    "import matplotlib.pyplot as plt\n",
    "import seaborn as sns\n",
    "from bs4 import BeautifulSoup\n",
    "import requests\n",
    "import warnings\n",
    "\n",
    "from sklearn.linear_model import LogisticRegression\n",
    "from sklearn.tree import DecisionTreeClassifier\n",
    "from sklearn.model_selection import GridSearchCV\n",
    "\n",
    "warnings.filterwarnings('ignore')"
   ]
  },
  {
   "cell_type": "markdown",
   "metadata": {},
   "source": [
    "## 5.5. Modeling\n",
    "Ở đây nhóm sử dụng 2 model là Decision Tree và Logistic Regression cùng với GridSearchCV để xác thực các siêu tham số. Khi sử dụng GridSearchCV cũng mặc định sử dụng phương pháp k-folds cross validation với k = 5\n",
    "\n",
    "### 5.5.1. Decision Tree\n",
    "Tập siêu tham số xác thực:\n",
    "- max_depth: Độ sâu tối đa của cây = [5, 10, 15, 20]\n",
    "- min_sample_split: Số sample tối thiểu để một node tiếp tục chia thành node con = [2, 5, 10]\n",
    "- min_sample_leaf: Số sample tối thiếu của một lá = [1, 2, 4]\n",
    "- criterion: Thước đo chất lượng phân chia ở mỗi node = [gini, entropy]\n",
    "\n",
    "GridSearchCV với các tham số trên sẽ tiến hành tối ưu hóa các siêu tham số thay vì phải tự chạy nhiều vòng for thủ công. Tiêu chí tìm kiếm của GridSearchCV ở đây là accuracy trên tập test càng cao càng tốt"
   ]
  },
  {
   "cell_type": "markdown",
   "metadata": {},
   "source": []
  },
  {
   "cell_type": "code",
   "execution_count": null,
   "metadata": {},
   "outputs": [],
   "source": [
    "def decision_tree(X, Y):\n",
    "    param_grid = {'max_depth': [int(x) for x in np.linspace(5, 20, num = 4)],\n",
    "                   'min_samples_split': [2, 5, 10],\n",
    "                   'min_samples_leaf': [1, 2, 4],\n",
    "                   'criterion': ['gini', 'entropy']\n",
    "                  }\n",
    "    dt = DecisionTreeClassifier()\n",
    "    dt_grid = GridSearchCV(estimator = dt, param_grid = param_grid, scoring = 'accuracy')\n",
    "    dt_grid.fit(X, Y)\n",
    "    return dt_grid"
   ]
  },
  {
   "cell_type": "markdown",
   "metadata": {},
   "source": [
    "#### 5.5.1.1. Tập sample 1\n"
   ]
  },
  {
   "cell_type": "code",
   "execution_count": null,
   "metadata": {},
   "outputs": [],
   "source": [
    "tree_grid_res1 = decision_tree(X1, Y1)"
   ]
  },
  {
   "cell_type": "code",
   "execution_count": null,
   "metadata": {},
   "outputs": [],
   "source": [
    "tree_grid_res1.best_params_"
   ]
  },
  {
   "cell_type": "code",
   "execution_count": null,
   "metadata": {},
   "outputs": [],
   "source": [
    "tree_grid_res1.best_score_"
   ]
  },
  {
   "cell_type": "markdown",
   "metadata": {},
   "source": [
    "Với tập sample1, độ chính xác tối đa trên tập test là 75.5% với các tham số:\n",
    "- criterion là entropy\n",
    "- max_depth là 5\n",
    "- min_samples_leaf là 1\n",
    "- min_samples_split là 5"
   ]
  },
  {
   "cell_type": "markdown",
   "metadata": {},
   "source": [
    "#### 5.5.1.2. Tập sample 2"
   ]
  },
  {
   "cell_type": "code",
   "execution_count": null,
   "metadata": {},
   "outputs": [],
   "source": [
    "tree_grid_res2 = decision_tree(X2, Y2)"
   ]
  },
  {
   "cell_type": "code",
   "execution_count": null,
   "metadata": {},
   "outputs": [],
   "source": [
    "tree_grid_res2.best_params_"
   ]
  },
  {
   "cell_type": "code",
   "execution_count": null,
   "metadata": {},
   "outputs": [],
   "source": [
    "tree_grid_res2.best_score_"
   ]
  },
  {
   "attachments": {},
   "cell_type": "markdown",
   "metadata": {},
   "source": [
    "Với tập sample2, độ chính xác tối đa trên tập test là 77.6% với các tham số:\n",
    "- criterion là entropy\n",
    "- max_depth là 5\n",
    "- min_samples_leaf là 1\n",
    "- min_samples_split là 2"
   ]
  }
 ],
 "metadata": {
  "kernelspec": {
   "display_name": "Python 3.8.8 ('min_ds-env')",
   "language": "python",
   "name": "python3"
  },
  "language_info": {
   "codemirror_mode": {
    "name": "ipython",
    "version": 3
   },
   "file_extension": ".py",
   "mimetype": "text/x-python",
   "name": "python",
   "nbconvert_exporter": "python",
   "pygments_lexer": "ipython3",
   "version": "3.8.8"
  },
  "orig_nbformat": 4,
  "vscode": {
   "interpreter": {
    "hash": "7a6efeff83152bb7b302218c56f7ae9a43e421edbf64321ba65a2f9337207512"
   }
  }
 },
 "nbformat": 4,
 "nbformat_minor": 2
}
