{
 "cells": [
  {
   "cell_type": "markdown",
   "metadata": {},
   "source": [
    "# 0. Import Library"
   ]
  },
  {
   "cell_type": "code",
   "execution_count": null,
   "metadata": {},
   "outputs": [],
   "source": [
    "import pandas as pd\n",
    "import numpy as np\n",
    "import matplotlib.pyplot as plt\n",
    "import seaborn as sns   \n",
    "import warnings\n",
    "\n",
    "sns.set_theme(style=\"darkgrid\")\n",
    "warnings.filterwarnings('ignore')"
   ]
  },
  {
   "cell_type": "markdown",
   "metadata": {},
   "source": [
    "# 2. Data Preprocessing"
   ]
  },
  {
   "cell_type": "code",
   "execution_count": null,
   "metadata": {},
   "outputs": [],
   "source": [
    "df = pd.read_csv('data/FT1000_v0.csv')\n",
    "df.head()"
   ]
  },
  {
   "cell_type": "code",
   "execution_count": null,
   "metadata": {},
   "outputs": [],
   "source": [
    "(df.keys().str[:7] == 'Unnamed').sum()"
   ]
  },
  {
   "cell_type": "code",
   "execution_count": null,
   "metadata": {},
   "outputs": [],
   "source": [
    "(df.iloc[:, 13:].isnull().sum() == 1001).sum()"
   ]
  },
  {
   "cell_type": "markdown",
   "metadata": {},
   "source": [
    "Trước khi tiến hành các thao tác tiền xử lí chính, nhóm nhận thấy data thu thập được có các cột Unnamed chứa toàn các dữ liệu NaN, do đó nhóm sẽ loại bỏ các cột này"
   ]
  },
  {
   "cell_type": "code",
   "execution_count": null,
   "metadata": {},
   "outputs": [],
   "source": [
    "df.drop(df.iloc[:, 13:], axis = 1, inplace = True)"
   ]
  },
  {
   "cell_type": "markdown",
   "metadata": {},
   "source": [
    "## 2.1. Tổng quan dữ liệu\n",
    "Số cột và số dòng của dữ liệu"
   ]
  },
  {
   "cell_type": "code",
   "execution_count": null,
   "metadata": {},
   "outputs": [],
   "source": [
    "df.shape"
   ]
  },
  {
   "cell_type": "markdown",
   "metadata": {},
   "source": [
    "Ý nghĩa của từng cột:\n",
    "- `Rank`: thứ hạng của công ty\n",
    "- `Name`: tên công ty\n",
    "- `in 2021 ranking`: Công ty có nằm trong bảng xếp hạng năm 2021 hay không\n",
    "- `in 2020 ranking`: Công ty có nằm trong bảng xếp hạng năm 2020 hay không\n",
    "- `Country`: công ty thuộc về quốc gia nào\n",
    "- `Sector`: lĩnh vực hoạt động của công ty\n",
    "- `Absolute Growth Rate %`: Tỉ lệ tăng trưởng tuyệt đối từ 2017 tới 2020\n",
    "- `Compound Annual Growth Rate (CAGR) %`: Tỉ lệ tăng trưởng kép từ 2017 tới 2020\n",
    "- `Revenue 2020 (€)`: Doanh thu năm 2020 tính theo đồng Euro\n",
    "- `Revenue 2017 (€)`: Doanh thu năm 2017 tính theo đồng Euro\n",
    "- `Number of employees 2020`: Số lượng nhân viên năm 2020\n",
    "- `Number of employees 2017`: Số lượng nhân viên năm 2017\n",
    "- `Founding Year`: Năm công ty thành lập\n",
    "\n",
    "Công thức tính 2 cột `Absolute Growth Rate %` và `Compound Annual Growth Rate (CAGR) %` đã được đề cập ở notebook `Data Collecting`, ở đây nhóm chỉ giải thích sự khác nhau về mặt ý nghĩa của 2 cột. 2 thang đo này thường được dùng để đánh giá kết quả đầu tư, trong trường hợp của dữ liệu này, là sự tăng trưởng của các công ty\n",
    "- <t style = \"color:green\">Absolute Growth Rate</t> hay <t style = \"color:green\">tỉ lệ tăng trưởng tuyệt đối</t>, đo độ tăng trưởng của công ty trong một giai đoạn thời gian\n",
    "- <t style = \"color:blue\">Compound Annual Growth Rate (CAGR)</t> hay <t style = \"color:blue\">tỉ lệ tăng trưởng kép</t>, đo độ tăng trưởng của công ty trong từng năm trong một giai đoạn thời gian. <t style = \"color:blue\">Tỉ lệ tăng trưởng kép</t> được tính dựa trên sự tái đầu tư của doanh thu mỗi năm, cho thấy tốc độ tăng trưởng của công ty trong từng năm. Còn <t style = \"color:green\">tỉ lệ tăng trưởng tuyệt đối</t> chỉ cho thấy sự tăng trưởng của công ty trong cả quá trình."
   ]
  },
  {
   "cell_type": "markdown",
   "metadata": {},
   "source": [
    "## 2.2. Data types\n",
    "Kiểm tra kiểu dữ liệu của các cột"
   ]
  },
  {
   "cell_type": "code",
   "execution_count": null,
   "metadata": {},
   "outputs": [],
   "source": [
    "def open_object_dtype(s):\n",
    "    dtypes = set(s.apply(lambda item : type(item)))\n",
    "    return dtypes\n",
    "\n",
    "df.apply(open_object_dtype)"
   ]
  },
  {
   "cell_type": "markdown",
   "metadata": {},
   "source": [
    "Quan sát kiểu dữ liệu của các cột, nhóm có nhận xét như sau:\n",
    "- Các cột có kiểu dữ liệu hợp lí:\n",
    "    - Numerical: `Absolute Growth Rate (%)` và `Compound Annual Growth Rate (CAGR) %`\n",
    "    - Categorical: `Name, in 2021 ranking, in 2020 ranking, Country, Sector`\n",
    "- Các cột dữ liệu float cần chuyển sang int: `Rank, Revenue 2020 (€), Revenue 2017 (€), Number of employees 2020, Founding Year`\n",
    "- Cột có kiểu dữ liệu không rõ ràng: `Number of employees 2017`, gồm str và float. Vì ý nghĩa của cột này là số lượng nhân viên của công ty trong năm 2017, (tương tự cột `Number of employees 2020`), nhóm sẽ chuyển cột này thành int\n",
    "\n",
    "Tuy nhiên việc chuyển kiểu dữ liệu sẽ được thực hiện cùng với việc loại bỏ missing values bên dưới"
   ]
  },
  {
   "cell_type": "markdown",
   "metadata": {},
   "source": [
    "## 2.3. Missing values\n",
    "Kiểm tra missing values trên tất cả các cột"
   ]
  },
  {
   "cell_type": "code",
   "execution_count": null,
   "metadata": {},
   "outputs": [],
   "source": [
    "df.isnull().sum()"
   ]
  },
  {
   "cell_type": "code",
   "execution_count": null,
   "metadata": {},
   "outputs": [],
   "source": [
    "df.iloc[1000,:]"
   ]
  },
  {
   "cell_type": "code",
   "execution_count": null,
   "metadata": {},
   "outputs": [],
   "source": [
    "df.drop(1000, axis = 0, inplace = True)"
   ]
  },
  {
   "cell_type": "markdown",
   "metadata": {},
   "source": [
    "Đa số các cột có 1 giá trị NaN, để ý thấy hàng có index 1000 của df chứa toàn các giá trị NaN, nhóm quyết định drop hàng này. Do đó chỉ còn 2 cột có một vài giá trị khuyết đó là `Number of employees 2020` và `Number of employees 2017`"
   ]
  },
  {
   "cell_type": "code",
   "execution_count": null,
   "metadata": {},
   "outputs": [],
   "source": [
    "df[df.isnull().any(axis = 1)]"
   ]
  },
  {
   "cell_type": "code",
   "execution_count": null,
   "metadata": {},
   "outputs": [],
   "source": [
    "df['Number of employees 2020'].plot(kind = 'box')"
   ]
  },
  {
   "cell_type": "markdown",
   "metadata": {},
   "source": [
    "Quan sát thấy phân bố của cột `Number of employees 2020` bị skew quá lớn, do đó nhóm quyết định sử dụng giá trị trung vị của cột này để điền vào các giá trị khuyết"
   ]
  },
  {
   "cell_type": "code",
   "execution_count": null,
   "metadata": {},
   "outputs": [],
   "source": [
    "df['Number of employees 2020'].fillna(df['Number of employees 2020'].median(), inplace = True)"
   ]
  },
  {
   "cell_type": "markdown",
   "metadata": {},
   "source": [
    "Với trường hợp của cột `Number of employees 2020`, ta thấy cột này có cả kiểu dữ liệu str, trước khi tiến hành xử lí các missing value, ta sẽ đi tìm hiểu các dòng chứa str trong cột này"
   ]
  },
  {
   "cell_type": "code",
   "execution_count": null,
   "metadata": {},
   "outputs": [],
   "source": [
    "df[[isinstance(value, str) for value in df['Number of employees 2017']]]['Number of employees 2017']"
   ]
  },
  {
   "cell_type": "code",
   "execution_count": null,
   "metadata": {},
   "outputs": [],
   "source": [
    "(df['Number of employees 2017'] == 'na').sum()"
   ]
  },
  {
   "cell_type": "markdown",
   "metadata": {},
   "source": [
    "Cột này ngoài chứa các giá trị số ở dạng str còn chứa str `'na'`, ta thay các giá trị này bằng `np.nan`"
   ]
  },
  {
   "cell_type": "code",
   "execution_count": null,
   "metadata": {},
   "outputs": [],
   "source": [
    "df.replace('na', np.nan, inplace = True)"
   ]
  },
  {
   "cell_type": "code",
   "execution_count": null,
   "metadata": {},
   "outputs": [],
   "source": [
    "df['Number of employees 2017'] = df['Number of employees 2017'].astype(float)\n",
    "df['Number of employees 2017'].fillna(df['Number of employees 2017'].median(), inplace = True)"
   ]
  },
  {
   "cell_type": "code",
   "execution_count": null,
   "metadata": {},
   "outputs": [],
   "source": [
    "df.isnull().sum()"
   ]
  },
  {
   "cell_type": "markdown",
   "metadata": {},
   "source": [
    "Sau khi đã xử lí hết các missing value, ta chuyển đổi kiểu dữ liệu của các cột cho phù hợp"
   ]
  },
  {
   "cell_type": "code",
   "execution_count": null,
   "metadata": {},
   "outputs": [],
   "source": [
    "df.iloc[:, [0, 8, 9, 10, 11, 12]] = df.iloc[:, [0, 8, 9, 10, 11, 12]].astype(int)"
   ]
  },
  {
   "cell_type": "markdown",
   "metadata": {},
   "source": [
    "## 2.3. Missing values\n",
    "Kiểm tra missing values trên tất cả các cột"
   ]
  },
  {
   "cell_type": "code",
   "execution_count": null,
   "metadata": {},
   "outputs": [],
   "source": [
    "df.isnull().sum()"
   ]
  },
  {
   "cell_type": "code",
   "execution_count": null,
   "metadata": {},
   "outputs": [],
   "source": [
    "df.iloc[1000,:]"
   ]
  },
  {
   "cell_type": "code",
   "execution_count": null,
   "metadata": {},
   "outputs": [],
   "source": [
    "df.drop(1000, axis = 0, inplace = True)"
   ]
  },
  {
   "cell_type": "markdown",
   "metadata": {},
   "source": [
    "Đa số các cột có 1 giá trị NaN, để ý thấy hàng có index 1000 của df chứa toàn các giá trị NaN, nhóm quyết định drop hàng này. Do đó chỉ còn 2 cột có một vài giá trị khuyết đó là `Number of employees 2020` và `Number of employees 2017`"
   ]
  },
  {
   "cell_type": "code",
   "execution_count": null,
   "metadata": {},
   "outputs": [],
   "source": [
    "df[df.isnull().any(axis = 1)]"
   ]
  },
  {
   "cell_type": "code",
   "execution_count": null,
   "metadata": {},
   "outputs": [],
   "source": [
    "df['Number of employees 2020'].plot(kind = 'box')"
   ]
  },
  {
   "cell_type": "markdown",
   "metadata": {},
   "source": [
    "Quan sát thấy phân bố của cột `Number of employees 2020` bị skew quá lớn, do đó nhóm quyết định sử dụng giá trị trung vị của cột này để điền vào các giá trị khuyết"
   ]
  },
  {
   "cell_type": "code",
   "execution_count": null,
   "metadata": {},
   "outputs": [],
   "source": [
    "df['Number of employees 2020'].fillna(df['Number of employees 2020'].median(), inplace = True)"
   ]
  },
  {
   "cell_type": "markdown",
   "metadata": {},
   "source": [
    "Với trường hợp của cột `Number of employees 2020`, ta thấy cột này có cả kiểu dữ liệu str, trước khi tiến hành xử lí các missing value, ta sẽ đi tìm hiểu các dòng chứa str trong cột này"
   ]
  },
  {
   "cell_type": "code",
   "execution_count": null,
   "metadata": {},
   "outputs": [],
   "source": [
    "df[[isinstance(value, str) for value in df['Number of employees 2017']]]['Number of employees 2017']"
   ]
  },
  {
   "cell_type": "code",
   "execution_count": null,
   "metadata": {},
   "outputs": [],
   "source": [
    "(df['Number of employees 2017'] == 'na').sum()"
   ]
  },
  {
   "cell_type": "markdown",
   "metadata": {},
   "source": [
    "Cột này ngoài chứa các giá trị số ở dạng str còn chứa str `'na'`, ta thay các giá trị này bằng `np.nan`"
   ]
  },
  {
   "cell_type": "code",
   "execution_count": null,
   "metadata": {},
   "outputs": [],
   "source": [
    "df.replace('na', np.nan, inplace = True)"
   ]
  },
  {
   "cell_type": "code",
   "execution_count": null,
   "metadata": {},
   "outputs": [],
   "source": [
    "df['Number of employees 2017'] = df['Number of employees 2017'].astype(float)\n",
    "df['Number of employees 2017'].fillna(df['Number of employees 2017'].median(), inplace = True)"
   ]
  },
  {
   "cell_type": "code",
   "execution_count": null,
   "metadata": {},
   "outputs": [],
   "source": [
    "df.isnull().sum()"
   ]
  },
  {
   "cell_type": "markdown",
   "metadata": {},
   "source": [
    "Sau khi đã xử lí hết các missing value, ta chuyển đổi kiểu dữ liệu của các cột cho phù hợp"
   ]
  },
  {
   "cell_type": "code",
   "execution_count": null,
   "metadata": {},
   "outputs": [],
   "source": [
    "df.iloc[:, [0, 8, 9, 10, 11, 12]] = df.iloc[:, [0, 8, 9, 10, 11, 12]].astype(int)"
   ]
  },
  {
   "cell_type": "markdown",
   "metadata": {},
   "source": [
    "## 2.4. Duplicated rows\n",
    "Kiểm tra xem dữ liệu có dòng nào bị trùng hay không"
   ]
  },
  {
   "cell_type": "code",
   "execution_count": null,
   "metadata": {},
   "outputs": [],
   "source": [
    "df.duplicated().sum()"
   ]
  },
  {
   "cell_type": "markdown",
   "metadata": {},
   "source": [
    "Ngoài việc kiểm tra từng dòng trên tất cả các cột, ta còn cần kiểm tra giá trị lặp trên cột `Rank` và `Name` vì 2 cột này được xem như key value, mỗi `Rank` phải nằm trong khoảng từ 1 tơi 1000 và không được trùng nhau, mỗi công ty chỉ được xếp hạng đúng một lần"
   ]
  },
  {
   "cell_type": "code",
   "execution_count": null,
   "metadata": {},
   "outputs": [],
   "source": [
    "df['Rank'].duplicated().sum()"
   ]
  },
  {
   "cell_type": "code",
   "execution_count": null,
   "metadata": {},
   "outputs": [],
   "source": [
    "((df['Rank'] <= 1000) & (df['Rank'] >= 1)).sum()"
   ]
  },
  {
   "cell_type": "code",
   "execution_count": null,
   "metadata": {},
   "outputs": [],
   "source": [
    "df['Name'].duplicated().sum()"
   ]
  }
 ],
 "metadata": {
  "kernelspec": {
   "display_name": "Python 3.10.6 64-bit",
   "language": "python",
   "name": "python3"
  },
  "language_info": {
   "codemirror_mode": {
    "name": "ipython",
    "version": 3
   },
   "file_extension": ".py",
   "mimetype": "text/x-python",
   "name": "python",
   "nbconvert_exporter": "python",
   "pygments_lexer": "ipython3",
   "version": "3.10.6"
  },
  "orig_nbformat": 4,
  "vscode": {
   "interpreter": {
    "hash": "916dbcbb3f70747c44a77c7bcd40155683ae19c65e1c03b4aa3499c5328201f1"
   }
  }
 },
 "nbformat": 4,
 "nbformat_minor": 2
}
