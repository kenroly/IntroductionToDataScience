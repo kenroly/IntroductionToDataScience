{
 "cells": [
  {
   "cell_type": "markdown",
   "metadata": {},
   "source": [
    "# 0. Import Library"
   ]
  },
  {
   "cell_type": "code",
   "execution_count": null,
   "metadata": {},
   "outputs": [],
   "source": [
    "import pandas as pd\n",
    "import numpy as np\n",
    "import matplotlib.pyplot as plt\n",
    "import seaborn as sns   \n",
    "import warnings\n",
    "\n",
    "sns.set_theme(style=\"darkgrid\")\n",
    "warnings.filterwarnings('ignore')"
   ]
  },
  {
   "cell_type": "markdown",
   "metadata": {},
   "source": [
    "# 2. Data Preprocessing"
   ]
  },
  {
   "cell_type": "code",
   "execution_count": null,
   "metadata": {},
   "outputs": [
    {
     "data": {
      "text/html": [
       "<div>\n",
       "<style scoped>\n",
       "    .dataframe tbody tr th:only-of-type {\n",
       "        vertical-align: middle;\n",
       "    }\n",
       "\n",
       "    .dataframe tbody tr th {\n",
       "        vertical-align: top;\n",
       "    }\n",
       "\n",
       "    .dataframe thead th {\n",
       "        text-align: right;\n",
       "    }\n",
       "</style>\n",
       "<table border=\"1\" class=\"dataframe\">\n",
       "  <thead>\n",
       "    <tr style=\"text-align: right;\">\n",
       "      <th></th>\n",
       "      <th>Rank</th>\n",
       "      <th>Name</th>\n",
       "      <th>in 2021 ranking</th>\n",
       "      <th>in 2020 ranking</th>\n",
       "      <th>Country</th>\n",
       "      <th>Sector</th>\n",
       "      <th>Absolute Growth Rate %</th>\n",
       "      <th>Compound Annual Growth Rate (CAGR) %</th>\n",
       "      <th>Revenue 2020 (€)</th>\n",
       "      <th>Revenue 2017 (€)</th>\n",
       "      <th>...</th>\n",
       "      <th>Unnamed: 990</th>\n",
       "      <th>Unnamed: 991</th>\n",
       "      <th>Unnamed: 992</th>\n",
       "      <th>Unnamed: 993</th>\n",
       "      <th>Unnamed: 994</th>\n",
       "      <th>Unnamed: 995</th>\n",
       "      <th>Unnamed: 996</th>\n",
       "      <th>Unnamed: 997</th>\n",
       "      <th>Unnamed: 998</th>\n",
       "      <th>Unnamed: 999</th>\n",
       "    </tr>\n",
       "  </thead>\n",
       "  <tbody>\n",
       "    <tr>\n",
       "      <th>0</th>\n",
       "      <td>1.0</td>\n",
       "      <td>Swappie</td>\n",
       "      <td>No</td>\n",
       "      <td>No</td>\n",
       "      <td>Finland</td>\n",
       "      <td>Technology</td>\n",
       "      <td>19152.82</td>\n",
       "      <td>477.43</td>\n",
       "      <td>97611814.0</td>\n",
       "      <td>507000.0</td>\n",
       "      <td>...</td>\n",
       "      <td>NaN</td>\n",
       "      <td>NaN</td>\n",
       "      <td>NaN</td>\n",
       "      <td>NaN</td>\n",
       "      <td>NaN</td>\n",
       "      <td>NaN</td>\n",
       "      <td>NaN</td>\n",
       "      <td>NaN</td>\n",
       "      <td>NaN</td>\n",
       "      <td>NaN</td>\n",
       "    </tr>\n",
       "    <tr>\n",
       "      <th>1</th>\n",
       "      <td>2.0</td>\n",
       "      <td>Kilo Health</td>\n",
       "      <td>No</td>\n",
       "      <td>No</td>\n",
       "      <td>Lithuania</td>\n",
       "      <td>Health</td>\n",
       "      <td>16541.73</td>\n",
       "      <td>450.05</td>\n",
       "      <td>57318766.0</td>\n",
       "      <td>344428.0</td>\n",
       "      <td>...</td>\n",
       "      <td>NaN</td>\n",
       "      <td>NaN</td>\n",
       "      <td>NaN</td>\n",
       "      <td>NaN</td>\n",
       "      <td>NaN</td>\n",
       "      <td>NaN</td>\n",
       "      <td>NaN</td>\n",
       "      <td>NaN</td>\n",
       "      <td>NaN</td>\n",
       "      <td>NaN</td>\n",
       "    </tr>\n",
       "    <tr>\n",
       "      <th>2</th>\n",
       "      <td>3.0</td>\n",
       "      <td>OCI</td>\n",
       "      <td>No</td>\n",
       "      <td>No</td>\n",
       "      <td>UK</td>\n",
       "      <td>Financial Services</td>\n",
       "      <td>13133.13</td>\n",
       "      <td>409.59</td>\n",
       "      <td>568322073.0</td>\n",
       "      <td>4325512.0</td>\n",
       "      <td>...</td>\n",
       "      <td>NaN</td>\n",
       "      <td>NaN</td>\n",
       "      <td>NaN</td>\n",
       "      <td>NaN</td>\n",
       "      <td>NaN</td>\n",
       "      <td>NaN</td>\n",
       "      <td>NaN</td>\n",
       "      <td>NaN</td>\n",
       "      <td>NaN</td>\n",
       "      <td>NaN</td>\n",
       "    </tr>\n",
       "    <tr>\n",
       "      <th>3</th>\n",
       "      <td>4.0</td>\n",
       "      <td>OnlyFans</td>\n",
       "      <td>No</td>\n",
       "      <td>No</td>\n",
       "      <td>UK</td>\n",
       "      <td>Technology</td>\n",
       "      <td>11928.05</td>\n",
       "      <td>393.63</td>\n",
       "      <td>316732986.0</td>\n",
       "      <td>2652185.0</td>\n",
       "      <td>...</td>\n",
       "      <td>NaN</td>\n",
       "      <td>NaN</td>\n",
       "      <td>NaN</td>\n",
       "      <td>NaN</td>\n",
       "      <td>NaN</td>\n",
       "      <td>NaN</td>\n",
       "      <td>NaN</td>\n",
       "      <td>NaN</td>\n",
       "      <td>NaN</td>\n",
       "      <td>NaN</td>\n",
       "    </tr>\n",
       "    <tr>\n",
       "      <th>4</th>\n",
       "      <td>5.0</td>\n",
       "      <td>Enpal</td>\n",
       "      <td>No</td>\n",
       "      <td>No</td>\n",
       "      <td>Germany</td>\n",
       "      <td>Energy</td>\n",
       "      <td>11441.27</td>\n",
       "      <td>386.88</td>\n",
       "      <td>56109613.0</td>\n",
       "      <td>486165.0</td>\n",
       "      <td>...</td>\n",
       "      <td>NaN</td>\n",
       "      <td>NaN</td>\n",
       "      <td>NaN</td>\n",
       "      <td>NaN</td>\n",
       "      <td>NaN</td>\n",
       "      <td>NaN</td>\n",
       "      <td>NaN</td>\n",
       "      <td>NaN</td>\n",
       "      <td>NaN</td>\n",
       "      <td>NaN</td>\n",
       "    </tr>\n",
       "  </tbody>\n",
       "</table>\n",
       "<p>5 rows × 1000 columns</p>\n",
       "</div>"
      ],
      "text/plain": [
       "   Rank         Name in 2021 ranking in 2020 ranking    Country  \\\n",
       "0   1.0      Swappie              No              No    Finland   \n",
       "1   2.0  Kilo Health              No              No  Lithuania   \n",
       "2   3.0          OCI              No              No         UK   \n",
       "3   4.0     OnlyFans              No              No         UK   \n",
       "4   5.0        Enpal              No              No    Germany   \n",
       "\n",
       "               Sector  Absolute Growth Rate %  \\\n",
       "0          Technology                19152.82   \n",
       "1              Health                16541.73   \n",
       "2  Financial Services                13133.13   \n",
       "3          Technology                11928.05   \n",
       "4              Energy                11441.27   \n",
       "\n",
       "   Compound Annual Growth Rate (CAGR) %  Revenue 2020 (€)  Revenue 2017 (€)  \\\n",
       "0                                477.43        97611814.0          507000.0   \n",
       "1                                450.05        57318766.0          344428.0   \n",
       "2                                409.59       568322073.0         4325512.0   \n",
       "3                                393.63       316732986.0         2652185.0   \n",
       "4                                386.88        56109613.0          486165.0   \n",
       "\n",
       "   ...  Unnamed: 990 Unnamed: 991  Unnamed: 992  Unnamed: 993  Unnamed: 994  \\\n",
       "0  ...           NaN          NaN           NaN           NaN           NaN   \n",
       "1  ...           NaN          NaN           NaN           NaN           NaN   \n",
       "2  ...           NaN          NaN           NaN           NaN           NaN   \n",
       "3  ...           NaN          NaN           NaN           NaN           NaN   \n",
       "4  ...           NaN          NaN           NaN           NaN           NaN   \n",
       "\n",
       "   Unnamed: 995  Unnamed: 996  Unnamed: 997  Unnamed: 998  Unnamed: 999  \n",
       "0           NaN           NaN           NaN           NaN           NaN  \n",
       "1           NaN           NaN           NaN           NaN           NaN  \n",
       "2           NaN           NaN           NaN           NaN           NaN  \n",
       "3           NaN           NaN           NaN           NaN           NaN  \n",
       "4           NaN           NaN           NaN           NaN           NaN  \n",
       "\n",
       "[5 rows x 1000 columns]"
      ]
     },
     "metadata": {},
     "output_type": "display_data"
    }
   ],
   "source": [
    "df = pd.read_csv('data/FT1000_v0.csv')\n",
    "df.head()"
   ]
  },
  {
   "cell_type": "markdown",
   "metadata": {},
   "source": [
    "## 2.5. Outliers\n",
    "Ở phần này nhóm tiến hành kiểm tra outliers ở các cốt. Cột `Rank` và `Name` là key value, do đó không kiểm tra outliers trên các cột này"
   ]
  },
  {
   "cell_type": "markdown",
   "metadata": {},
   "source": [
    "### 2.5.1. Các cột categorical"
   ]
  },
  {
   "cell_type": "code",
   "execution_count": null,
   "metadata": {},
   "outputs": [],
   "source": [
    "df['in 2020 ranking'].value_counts()"
   ]
  },
  {
   "cell_type": "code",
   "execution_count": null,
   "metadata": {},
   "outputs": [
    {
     "data": {
      "text/plain": [
       "No     694\n",
       "Yes    306\n",
       "Name: in 2021 ranking, dtype: int64"
      ]
     },
     "metadata": {},
     "output_type": "display_data"
    }
   ],
   "source": [
    "df['in 2021 ranking'].value_counts()"
   ]
  }
 ],
 "metadata": {
  "kernelspec": {
   "display_name": "Python 3.10.5 64-bit (system)",
   "language": "python",
   "name": "python3"
  },
  "language_info": {
   "name": "python",
   "version": "3.10.5"
  },
  "orig_nbformat": 4,
  "vscode": {
   "interpreter": {
    "hash": "2a8dfe095fce2b5e88c64a2c3ee084c8e0e0d70b23e7b95b1cfb538be294c5c8"
   }
  }
 },
 "nbformat": 4,
 "nbformat_minor": 2
}
