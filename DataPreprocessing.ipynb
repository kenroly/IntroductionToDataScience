{
  "cells": [
    {
      "cell_type": "markdown",
      "metadata": {},
      "source": [
        "# 0. Import Library"
      ]
    },
    {
      "cell_type": "code",
      "execution_count": 44,
      "metadata": {},
      "outputs": [],
      "source": [
        "import pandas as pd\n",
        "import numpy as np\n",
        "import matplotlib.pyplot as plt\n",
        "import seaborn as sns   \n",
        "import warnings\n",
        "\n",
        "sns.set_theme(style=\"darkgrid\")\n",
        "warnings.filterwarnings('ignore')"
      ]
    },
    {
      "cell_type": "markdown",
      "metadata": {},
      "source": [
        "# 2. Data Preprocessing"
      ]
    },
    {
      "cell_type": "code",
      "execution_count": 45,
      "metadata": {},
      "outputs": [
        {
          "data": {
            "text/html": [
              "<div>\n",
              "<style scoped>\n",
              "    .dataframe tbody tr th:only-of-type {\n",
              "        vertical-align: middle;\n",
              "    }\n",
              "\n",
              "    .dataframe tbody tr th {\n",
              "        vertical-align: top;\n",
              "    }\n",
              "\n",
              "    .dataframe thead th {\n",
              "        text-align: right;\n",
              "    }\n",
              "</style>\n",
              "<table border=\"1\" class=\"dataframe\">\n",
              "  <thead>\n",
              "    <tr style=\"text-align: right;\">\n",
              "      <th></th>\n",
              "      <th>Rank</th>\n",
              "      <th>Name</th>\n",
              "      <th>in 2021 ranking</th>\n",
              "      <th>in 2020 ranking</th>\n",
              "      <th>Country</th>\n",
              "      <th>Sector</th>\n",
              "      <th>Absolute Growth Rate %</th>\n",
              "      <th>Compound Annual Growth Rate (CAGR) %</th>\n",
              "      <th>Revenue 2020 (€)</th>\n",
              "      <th>Revenue 2017 (€)</th>\n",
              "      <th>...</th>\n",
              "      <th>Unnamed: 990</th>\n",
              "      <th>Unnamed: 991</th>\n",
              "      <th>Unnamed: 992</th>\n",
              "      <th>Unnamed: 993</th>\n",
              "      <th>Unnamed: 994</th>\n",
              "      <th>Unnamed: 995</th>\n",
              "      <th>Unnamed: 996</th>\n",
              "      <th>Unnamed: 997</th>\n",
              "      <th>Unnamed: 998</th>\n",
              "      <th>Unnamed: 999</th>\n",
              "    </tr>\n",
              "  </thead>\n",
              "  <tbody>\n",
              "    <tr>\n",
              "      <th>0</th>\n",
              "      <td>1.0</td>\n",
              "      <td>Swappie</td>\n",
              "      <td>No</td>\n",
              "      <td>No</td>\n",
              "      <td>Finland</td>\n",
              "      <td>Technology</td>\n",
              "      <td>19152.82</td>\n",
              "      <td>477.43</td>\n",
              "      <td>97611814.0</td>\n",
              "      <td>507000.0</td>\n",
              "      <td>...</td>\n",
              "      <td>NaN</td>\n",
              "      <td>NaN</td>\n",
              "      <td>NaN</td>\n",
              "      <td>NaN</td>\n",
              "      <td>NaN</td>\n",
              "      <td>NaN</td>\n",
              "      <td>NaN</td>\n",
              "      <td>NaN</td>\n",
              "      <td>NaN</td>\n",
              "      <td>NaN</td>\n",
              "    </tr>\n",
              "    <tr>\n",
              "      <th>1</th>\n",
              "      <td>2.0</td>\n",
              "      <td>Kilo Health</td>\n",
              "      <td>No</td>\n",
              "      <td>No</td>\n",
              "      <td>Lithuania</td>\n",
              "      <td>Health</td>\n",
              "      <td>16541.73</td>\n",
              "      <td>450.05</td>\n",
              "      <td>57318766.0</td>\n",
              "      <td>344428.0</td>\n",
              "      <td>...</td>\n",
              "      <td>NaN</td>\n",
              "      <td>NaN</td>\n",
              "      <td>NaN</td>\n",
              "      <td>NaN</td>\n",
              "      <td>NaN</td>\n",
              "      <td>NaN</td>\n",
              "      <td>NaN</td>\n",
              "      <td>NaN</td>\n",
              "      <td>NaN</td>\n",
              "      <td>NaN</td>\n",
              "    </tr>\n",
              "    <tr>\n",
              "      <th>2</th>\n",
              "      <td>3.0</td>\n",
              "      <td>OCI</td>\n",
              "      <td>No</td>\n",
              "      <td>No</td>\n",
              "      <td>UK</td>\n",
              "      <td>Financial Services</td>\n",
              "      <td>13133.13</td>\n",
              "      <td>409.59</td>\n",
              "      <td>568322073.0</td>\n",
              "      <td>4325512.0</td>\n",
              "      <td>...</td>\n",
              "      <td>NaN</td>\n",
              "      <td>NaN</td>\n",
              "      <td>NaN</td>\n",
              "      <td>NaN</td>\n",
              "      <td>NaN</td>\n",
              "      <td>NaN</td>\n",
              "      <td>NaN</td>\n",
              "      <td>NaN</td>\n",
              "      <td>NaN</td>\n",
              "      <td>NaN</td>\n",
              "    </tr>\n",
              "    <tr>\n",
              "      <th>3</th>\n",
              "      <td>4.0</td>\n",
              "      <td>OnlyFans</td>\n",
              "      <td>No</td>\n",
              "      <td>No</td>\n",
              "      <td>UK</td>\n",
              "      <td>Technology</td>\n",
              "      <td>11928.05</td>\n",
              "      <td>393.63</td>\n",
              "      <td>316732986.0</td>\n",
              "      <td>2652185.0</td>\n",
              "      <td>...</td>\n",
              "      <td>NaN</td>\n",
              "      <td>NaN</td>\n",
              "      <td>NaN</td>\n",
              "      <td>NaN</td>\n",
              "      <td>NaN</td>\n",
              "      <td>NaN</td>\n",
              "      <td>NaN</td>\n",
              "      <td>NaN</td>\n",
              "      <td>NaN</td>\n",
              "      <td>NaN</td>\n",
              "    </tr>\n",
              "    <tr>\n",
              "      <th>4</th>\n",
              "      <td>5.0</td>\n",
              "      <td>Enpal</td>\n",
              "      <td>No</td>\n",
              "      <td>No</td>\n",
              "      <td>Germany</td>\n",
              "      <td>Energy</td>\n",
              "      <td>11441.27</td>\n",
              "      <td>386.88</td>\n",
              "      <td>56109613.0</td>\n",
              "      <td>486165.0</td>\n",
              "      <td>...</td>\n",
              "      <td>NaN</td>\n",
              "      <td>NaN</td>\n",
              "      <td>NaN</td>\n",
              "      <td>NaN</td>\n",
              "      <td>NaN</td>\n",
              "      <td>NaN</td>\n",
              "      <td>NaN</td>\n",
              "      <td>NaN</td>\n",
              "      <td>NaN</td>\n",
              "      <td>NaN</td>\n",
              "    </tr>\n",
              "  </tbody>\n",
              "</table>\n",
              "<p>5 rows × 1000 columns</p>\n",
              "</div>"
            ],
            "text/plain": [
              "   Rank         Name in 2021 ranking in 2020 ranking    Country  \\\n",
              "0   1.0      Swappie              No              No    Finland   \n",
              "1   2.0  Kilo Health              No              No  Lithuania   \n",
              "2   3.0          OCI              No              No         UK   \n",
              "3   4.0     OnlyFans              No              No         UK   \n",
              "4   5.0        Enpal              No              No    Germany   \n",
              "\n",
              "               Sector  Absolute Growth Rate %  \\\n",
              "0          Technology                19152.82   \n",
              "1              Health                16541.73   \n",
              "2  Financial Services                13133.13   \n",
              "3          Technology                11928.05   \n",
              "4              Energy                11441.27   \n",
              "\n",
              "   Compound Annual Growth Rate (CAGR) %  Revenue 2020 (€)  Revenue 2017 (€)  \\\n",
              "0                                477.43        97611814.0          507000.0   \n",
              "1                                450.05        57318766.0          344428.0   \n",
              "2                                409.59       568322073.0         4325512.0   \n",
              "3                                393.63       316732986.0         2652185.0   \n",
              "4                                386.88        56109613.0          486165.0   \n",
              "\n",
              "   ...  Unnamed: 990 Unnamed: 991  Unnamed: 992  Unnamed: 993  Unnamed: 994  \\\n",
              "0  ...           NaN          NaN           NaN           NaN           NaN   \n",
              "1  ...           NaN          NaN           NaN           NaN           NaN   \n",
              "2  ...           NaN          NaN           NaN           NaN           NaN   \n",
              "3  ...           NaN          NaN           NaN           NaN           NaN   \n",
              "4  ...           NaN          NaN           NaN           NaN           NaN   \n",
              "\n",
              "   Unnamed: 995  Unnamed: 996  Unnamed: 997  Unnamed: 998  Unnamed: 999  \n",
              "0           NaN           NaN           NaN           NaN           NaN  \n",
              "1           NaN           NaN           NaN           NaN           NaN  \n",
              "2           NaN           NaN           NaN           NaN           NaN  \n",
              "3           NaN           NaN           NaN           NaN           NaN  \n",
              "4           NaN           NaN           NaN           NaN           NaN  \n",
              "\n",
              "[5 rows x 1000 columns]"
            ]
          },
          "execution_count": 45,
          "metadata": {},
          "output_type": "execute_result"
        }
      ],
      "source": [
        "df = pd.read_csv('data/FT1000_v0.csv')\n",
        "df.head()"
      ]
    },
    {
      "cell_type": "code",
      "execution_count": 46,
      "metadata": {},
      "outputs": [
        {
          "data": {
            "text/plain": [
              "987"
            ]
          },
          "execution_count": 46,
          "metadata": {},
          "output_type": "execute_result"
        }
      ],
      "source": [
        "(df.keys().str[:7] == 'Unnamed').sum()"
      ]
    },
    {
      "cell_type": "code",
      "execution_count": 47,
      "metadata": {},
      "outputs": [
        {
          "data": {
            "text/plain": [
              "987"
            ]
          },
          "execution_count": 47,
          "metadata": {},
          "output_type": "execute_result"
        }
      ],
      "source": [
        "(df.iloc[:, 13:].isnull().sum() == 1001).sum()"
      ]
    },
    {
      "cell_type": "markdown",
      "metadata": {},
      "source": [
        "Trước khi tiến hành các thao tác tiền xử lí chính, nhóm nhận thấy data thu thập được có các cột Unnamed chứa toàn các dữ liệu NaN, do đó nhóm sẽ loại bỏ các cột này"
      ]
    },
    {
      "cell_type": "code",
      "execution_count": 48,
      "metadata": {},
      "outputs": [],
      "source": [
        "df.drop(df.iloc[:, 13:], axis = 1, inplace = True)"
      ]
    },
    {
      "cell_type": "markdown",
      "metadata": {},
      "source": [
        "## 2.1. Tổng quan dữ liệu\n",
        "Số cột và số dòng của dữ liệu"
      ]
    },
    {
      "cell_type": "code",
      "execution_count": 49,
      "metadata": {},
      "outputs": [
        {
          "data": {
            "text/plain": [
              "(1001, 13)"
            ]
          },
          "execution_count": 49,
          "metadata": {},
          "output_type": "execute_result"
        }
      ],
      "source": [
        "df.shape"
      ]
    },
    {
      "cell_type": "markdown",
      "metadata": {},
      "source": [
        "Ý nghĩa của từng cột:\n",
        "- `Rank`: thứ hạng của công ty\n",
        "- `Name`: tên công ty\n",
        "- `in 2021 ranking`: Công ty có nằm trong bảng xếp hạng năm 2021 hay không\n",
        "- `in 2020 ranking`: Công ty có nằm trong bảng xếp hạng năm 2020 hay không\n",
        "- `Country`: công ty thuộc về quốc gia nào\n",
        "- `Sector`: lĩnh vực hoạt động của công ty\n",
        "- `Absolute Growth Rate %`: Tỉ lệ tăng trưởng tuyệt đối từ 2017 tới 2020\n",
        "- `Compound Annual Growth Rate (CAGR) %`: Tỉ lệ tăng trưởng kép từ 2017 tới 2020\n",
        "- `Revenue 2020 (€)`: Doanh thu năm 2020 tính theo đồng Euro\n",
        "- `Revenue 2017 (€)`: Doanh thu năm 2017 tính theo đồng Euro\n",
        "- `Number of employees 2020`: Số lượng nhân viên năm 2020\n",
        "- `Number of employees 2017`: Số lượng nhân viên năm 2017\n",
        "- `Founding Year`: Năm công ty thành lập\n",
        "\n",
        "Công thức tính 2 cột `Absolute Growth Rate %` và `Compound Annual Growth Rate (CAGR) %` đã được đề cập ở notebook `Data Collecting`, ở đây nhóm chỉ giải thích sự khác nhau về mặt ý nghĩa của 2 cột. 2 thang đo này thường được dùng để đánh giá kết quả đầu tư, trong trường hợp của dữ liệu này, là sự tăng trưởng của các công ty\n",
        "- <t style = \"color:green\">Absolute Growth Rate</t> hay <t style = \"color:green\">tỉ lệ tăng trưởng tuyệt đối</t>, đo độ tăng trưởng của công ty trong một giai đoạn thời gian\n",
        "- <t style = \"color:blue\">Compound Annual Growth Rate (CAGR)</t> hay <t style = \"color:blue\">tỉ lệ tăng trưởng kép</t>, đo độ tăng trưởng của công ty trong từng năm trong một giai đoạn thời gian. <t style = \"color:blue\">Tỉ lệ tăng trưởng kép</t> được tính dựa trên sự tái đầu tư của doanh thu mỗi năm, cho thấy tốc độ tăng trưởng của công ty trong từng năm. Còn <t style = \"color:green\">tỉ lệ tăng trưởng tuyệt đối</t> chỉ cho thấy sự tăng trưởng của công ty trong cả quá trình."
      ]
    },
    {
      "cell_type": "markdown",
      "metadata": {},
      "source": [
        "## 2.2. Data types\n",
        "Kiểm tra kiểu dữ liệu của các cột"
      ]
    },
    {
      "cell_type": "code",
      "execution_count": 50,
      "metadata": {},
      "outputs": [
        {
          "data": {
            "text/plain": [
              "Rank                                                   {<class 'float'>}\n",
              "Name                                    {<class 'str'>, <class 'float'>}\n",
              "in 2021 ranking                         {<class 'str'>, <class 'float'>}\n",
              "in 2020 ranking                         {<class 'str'>, <class 'float'>}\n",
              "Country                                 {<class 'str'>, <class 'float'>}\n",
              "Sector                                  {<class 'str'>, <class 'float'>}\n",
              "Absolute Growth Rate %                                 {<class 'float'>}\n",
              "Compound Annual Growth Rate (CAGR) %                   {<class 'float'>}\n",
              "Revenue 2020 (€)                                       {<class 'float'>}\n",
              "Revenue 2017 (€)                                       {<class 'float'>}\n",
              "Number of employees 2020                               {<class 'float'>}\n",
              "Number of employees 2017                {<class 'str'>, <class 'float'>}\n",
              "Founding Year                                          {<class 'float'>}\n",
              "dtype: object"
            ]
          },
          "execution_count": 50,
          "metadata": {},
          "output_type": "execute_result"
        }
      ],
      "source": [
        "def open_object_dtype(s):\n",
        "    dtypes = set(s.apply(lambda item : type(item)))\n",
        "    return dtypes\n",
        "\n",
        "df.apply(open_object_dtype)"
      ]
    },
    {
      "cell_type": "markdown",
      "metadata": {},
      "source": [
        "Quan sát kiểu dữ liệu của các cột, nhóm có nhận xét như sau:\n",
        "- Các cột có kiểu dữ liệu hợp lí:\n",
        "    - Numerical: `Absolute Growth Rate (%)` và `Compound Annual Growth Rate (CAGR) %`\n",
        "    - Categorical: `Name, in 2021 ranking, in 2020 ranking, Country, Sector`\n",
        "- Các cột dữ liệu float cần chuyển sang int: `Rank, Revenue 2020 (€), Revenue 2017 (€), Number of employees 2020, Founding Year`\n",
        "- Cột có kiểu dữ liệu không rõ ràng: `Number of employees 2017`, gồm str và float. Vì ý nghĩa của cột này là số lượng nhân viên của công ty trong năm 2017, (tương tự cột `Number of employees 2020`), nhóm sẽ chuyển cột này thành int\n",
        "\n",
        "Tuy nhiên việc chuyển kiểu dữ liệu sẽ được thực hiện cùng với việc loại bỏ missing values bên dưới"
      ]
    },
    {
      "cell_type": "markdown",
      "metadata": {},
      "source": [
        "## 2.3. Missing values\n",
        "Kiểm tra missing values trên tất cả các cột"
      ]
    },
    {
      "cell_type": "code",
      "execution_count": 51,
      "metadata": {},
      "outputs": [
        {
          "data": {
            "text/plain": [
              "Rank                                    1\n",
              "Name                                    1\n",
              "in 2021 ranking                         1\n",
              "in 2020 ranking                         1\n",
              "Country                                 1\n",
              "Sector                                  1\n",
              "Absolute Growth Rate %                  1\n",
              "Compound Annual Growth Rate (CAGR) %    1\n",
              "Revenue 2020 (€)                        1\n",
              "Revenue 2017 (€)                        1\n",
              "Number of employees 2020                5\n",
              "Number of employees 2017                4\n",
              "Founding Year                           1\n",
              "dtype: int64"
            ]
          },
          "execution_count": 51,
          "metadata": {},
          "output_type": "execute_result"
        }
      ],
      "source": [
        "df.isnull().sum()"
      ]
    },
    {
      "cell_type": "code",
      "execution_count": 52,
      "metadata": {},
      "outputs": [
        {
          "data": {
            "text/plain": [
              "Rank                                    NaN\n",
              "Name                                    NaN\n",
              "in 2021 ranking                         NaN\n",
              "in 2020 ranking                         NaN\n",
              "Country                                 NaN\n",
              "Sector                                  NaN\n",
              "Absolute Growth Rate %                  NaN\n",
              "Compound Annual Growth Rate (CAGR) %    NaN\n",
              "Revenue 2020 (€)                        NaN\n",
              "Revenue 2017 (€)                        NaN\n",
              "Number of employees 2020                NaN\n",
              "Number of employees 2017                NaN\n",
              "Founding Year                           NaN\n",
              "Name: 1000, dtype: object"
            ]
          },
          "execution_count": 52,
          "metadata": {},
          "output_type": "execute_result"
        }
      ],
      "source": [
        "df.iloc[1000,:]"
      ]
    },
    {
      "cell_type": "code",
      "execution_count": 53,
      "metadata": {},
      "outputs": [],
      "source": [
        "df.drop(1000, axis = 0, inplace = True)"
      ]
    },
    {
      "cell_type": "markdown",
      "metadata": {},
      "source": [
        "Đa số các cột có 1 giá trị NaN, để ý thấy hàng có index 1000 của df chứa toàn các giá trị NaN, nhóm quyết định drop hàng này. Do đó chỉ còn 2 cột có một vài giá trị khuyết đó là `Number of employees 2020` và `Number of employees 2017`"
      ]
    },
    {
      "cell_type": "code",
      "execution_count": 54,
      "metadata": {},
      "outputs": [
        {
          "data": {
            "text/html": [
              "<div>\n",
              "<style scoped>\n",
              "    .dataframe tbody tr th:only-of-type {\n",
              "        vertical-align: middle;\n",
              "    }\n",
              "\n",
              "    .dataframe tbody tr th {\n",
              "        vertical-align: top;\n",
              "    }\n",
              "\n",
              "    .dataframe thead th {\n",
              "        text-align: right;\n",
              "    }\n",
              "</style>\n",
              "<table border=\"1\" class=\"dataframe\">\n",
              "  <thead>\n",
              "    <tr style=\"text-align: right;\">\n",
              "      <th></th>\n",
              "      <th>Rank</th>\n",
              "      <th>Name</th>\n",
              "      <th>in 2021 ranking</th>\n",
              "      <th>in 2020 ranking</th>\n",
              "      <th>Country</th>\n",
              "      <th>Sector</th>\n",
              "      <th>Absolute Growth Rate %</th>\n",
              "      <th>Compound Annual Growth Rate (CAGR) %</th>\n",
              "      <th>Revenue 2020 (€)</th>\n",
              "      <th>Revenue 2017 (€)</th>\n",
              "      <th>Number of employees 2020</th>\n",
              "      <th>Number of employees 2017</th>\n",
              "      <th>Founding Year</th>\n",
              "    </tr>\n",
              "  </thead>\n",
              "  <tbody>\n",
              "    <tr>\n",
              "      <th>199</th>\n",
              "      <td>200.0</td>\n",
              "      <td>Lyonnaise de Construction et Renovation</td>\n",
              "      <td>No</td>\n",
              "      <td>No</td>\n",
              "      <td>France</td>\n",
              "      <td>Construction</td>\n",
              "      <td>717.46</td>\n",
              "      <td>101.44</td>\n",
              "      <td>6640842.0</td>\n",
              "      <td>812371.0</td>\n",
              "      <td>NaN</td>\n",
              "      <td>NaN</td>\n",
              "      <td>2015.0</td>\n",
              "    </tr>\n",
              "    <tr>\n",
              "      <th>365</th>\n",
              "      <td>366.0</td>\n",
              "      <td>Labevolution</td>\n",
              "      <td>No</td>\n",
              "      <td>No</td>\n",
              "      <td>Italy</td>\n",
              "      <td>Health</td>\n",
              "      <td>438.38</td>\n",
              "      <td>75.27</td>\n",
              "      <td>7264130.0</td>\n",
              "      <td>1349250.0</td>\n",
              "      <td>NaN</td>\n",
              "      <td>5</td>\n",
              "      <td>2009.0</td>\n",
              "    </tr>\n",
              "    <tr>\n",
              "      <th>792</th>\n",
              "      <td>793.0</td>\n",
              "      <td>Spedition Ibov</td>\n",
              "      <td>No</td>\n",
              "      <td>No</td>\n",
              "      <td>Germany</td>\n",
              "      <td>Transport</td>\n",
              "      <td>200.43</td>\n",
              "      <td>44.29</td>\n",
              "      <td>3424863.0</td>\n",
              "      <td>1140000.0</td>\n",
              "      <td>NaN</td>\n",
              "      <td>NaN</td>\n",
              "      <td>2013.0</td>\n",
              "    </tr>\n",
              "    <tr>\n",
              "      <th>891</th>\n",
              "      <td>892.0</td>\n",
              "      <td>Accolade</td>\n",
              "      <td>No</td>\n",
              "      <td>Yes</td>\n",
              "      <td>Czech Republic</td>\n",
              "      <td>Property</td>\n",
              "      <td>174.26</td>\n",
              "      <td>39.98</td>\n",
              "      <td>83981636.0</td>\n",
              "      <td>31477723.0</td>\n",
              "      <td>NaN</td>\n",
              "      <td>NaN</td>\n",
              "      <td>2010.0</td>\n",
              "    </tr>\n",
              "  </tbody>\n",
              "</table>\n",
              "</div>"
            ],
            "text/plain": [
              "      Rank                                     Name in 2021 ranking  \\\n",
              "199  200.0  Lyonnaise de Construction et Renovation              No   \n",
              "365  366.0                             Labevolution              No   \n",
              "792  793.0                           Spedition Ibov              No   \n",
              "891  892.0                                 Accolade              No   \n",
              "\n",
              "    in 2020 ranking         Country        Sector  Absolute Growth Rate %  \\\n",
              "199              No          France  Construction                  717.46   \n",
              "365              No           Italy        Health                  438.38   \n",
              "792              No         Germany     Transport                  200.43   \n",
              "891             Yes  Czech Republic      Property                  174.26   \n",
              "\n",
              "     Compound Annual Growth Rate (CAGR) %  Revenue 2020 (€)  Revenue 2017 (€)  \\\n",
              "199                                101.44         6640842.0          812371.0   \n",
              "365                                 75.27         7264130.0         1349250.0   \n",
              "792                                 44.29         3424863.0         1140000.0   \n",
              "891                                 39.98        83981636.0        31477723.0   \n",
              "\n",
              "     Number of employees 2020 Number of employees 2017  Founding Year  \n",
              "199                       NaN                      NaN         2015.0  \n",
              "365                       NaN                        5         2009.0  \n",
              "792                       NaN                      NaN         2013.0  \n",
              "891                       NaN                      NaN         2010.0  "
            ]
          },
          "execution_count": 54,
          "metadata": {},
          "output_type": "execute_result"
        }
      ],
      "source": [
        "df[df.isnull().any(axis = 1)]"
      ]
    },
    {
      "cell_type": "code",
      "execution_count": 55,
      "metadata": {},
      "outputs": [
        {
          "data": {
            "text/plain": [
              "<AxesSubplot: >"
            ]
          },
          "execution_count": 55,
          "metadata": {},
          "output_type": "execute_result"
        },
        {
          "data": {
            "image/png": "[encoded data removed]",
            "text/plain": [
              "<Figure size 640x480 with 1 Axes>"
            ]
          },
          "metadata": {},
          "output_type": "display_data"
        }
      ],
      "source": [
        "df['Number of employees 2020'].plot(kind = 'box')"
      ]
    },
    {
      "cell_type": "markdown",
      "metadata": {},
      "source": [
        "Quan sát thấy phân bố của cột `Number of employees 2020` bị skew quá lớn, do đó nhóm quyết định sử dụng giá trị trung vị của cột này để điền vào các giá trị khuyết"
      ]
    },
    {
      "cell_type": "code",
      "execution_count": 56,
      "metadata": {},
      "outputs": [],
      "source": [
        "df['Number of employees 2020'].fillna(df['Number of employees 2020'].median(), inplace = True)"
      ]
    },
    {
      "cell_type": "markdown",
      "metadata": {},
      "source": [
        "Với trường hợp của cột `Number of employees 2020`, ta thấy cột này có cả kiểu dữ liệu str, trước khi tiến hành xử lí các missing value, ta sẽ đi tìm hiểu các dòng chứa str trong cột này"
      ]
    },
    {
      "cell_type": "code",
      "execution_count": 57,
      "metadata": {},
      "outputs": [
        {
          "data": {
            "text/plain": [
              "0        1\n",
              "1       10\n",
              "2        4\n",
              "3        4\n",
              "4        9\n",
              "      ... \n",
              "995     15\n",
              "996     41\n",
              "997    100\n",
              "998     13\n",
              "999      5\n",
              "Name: Number of employees 2017, Length: 997, dtype: object"
            ]
          },
          "execution_count": 57,
          "metadata": {},
          "output_type": "execute_result"
        }
      ],
      "source": [
        "df[[isinstance(value, str) for value in df['Number of employees 2017']]]['Number of employees 2017']"
      ]
    },
    {
      "cell_type": "code",
      "execution_count": 58,
      "metadata": {},
      "outputs": [
        {
          "data": {
            "text/plain": [
              "2"
            ]
          },
          "execution_count": 58,
          "metadata": {},
          "output_type": "execute_result"
        }
      ],
      "source": [
        "(df['Number of employees 2017'] == 'na').sum()"
      ]
    },
    {
      "cell_type": "markdown",
      "metadata": {},
      "source": [
        "Cột này ngoài chứa các giá trị số ở dạng str còn chứa str `'na'`, ta thay các giá trị này bằng `np.nan`"
      ]
    },
    {
      "cell_type": "code",
      "execution_count": 59,
      "metadata": {},
      "outputs": [],
      "source": [
        "df.replace('na', np.nan, inplace = True)"
      ]
    },
    {
      "cell_type": "code",
      "execution_count": 60,
      "metadata": {},
      "outputs": [],
      "source": [
        "df['Number of employees 2017'] = df['Number of employees 2017'].astype(float)\n",
        "df['Number of employees 2017'].fillna(df['Number of employees 2017'].median(), inplace = True)"
      ]
    },
    {
      "cell_type": "code",
      "execution_count": 61,
      "metadata": {},
      "outputs": [
        {
          "data": {
            "text/plain": [
              "Rank                                    0\n",
              "Name                                    0\n",
              "in 2021 ranking                         0\n",
              "in 2020 ranking                         0\n",
              "Country                                 0\n",
              "Sector                                  0\n",
              "Absolute Growth Rate %                  0\n",
              "Compound Annual Growth Rate (CAGR) %    0\n",
              "Revenue 2020 (€)                        0\n",
              "Revenue 2017 (€)                        0\n",
              "Number of employees 2020                0\n",
              "Number of employees 2017                0\n",
              "Founding Year                           0\n",
              "dtype: int64"
            ]
          },
          "execution_count": 61,
          "metadata": {},
          "output_type": "execute_result"
        }
      ],
      "source": [
        "df.isnull().sum()"
      ]
    },
    {
      "cell_type": "markdown",
      "metadata": {},
      "source": [
        "Sau khi đã xử lí hết các missing value, ta chuyển đổi kiểu dữ liệu của các cột cho phù hợp"
      ]
    },
    {
      "cell_type": "code",
      "execution_count": 62,
      "metadata": {},
      "outputs": [],
      "source": [
        "df.iloc[:, [0, 8, 9, 10, 11, 12]] = df.iloc[:, [0, 8, 9, 10, 11, 12]].astype(int)"
      ]
    },
    {
      "cell_type": "markdown",
      "metadata": {},
      "source": [
        "## 2.3. Missing values\n",
        "Kiểm tra missing values trên tất cả các cột"
      ]
    },
    {
      "cell_type": "code",
      "execution_count": 63,
      "metadata": {},
      "outputs": [
        {
          "data": {
            "text/plain": [
              "Rank                                    0\n",
              "Name                                    0\n",
              "in 2021 ranking                         0\n",
              "in 2020 ranking                         0\n",
              "Country                                 0\n",
              "Sector                                  0\n",
              "Absolute Growth Rate %                  0\n",
              "Compound Annual Growth Rate (CAGR) %    0\n",
              "Revenue 2020 (€)                        0\n",
              "Revenue 2017 (€)                        0\n",
              "Number of employees 2020                0\n",
              "Number of employees 2017                0\n",
              "Founding Year                           0\n",
              "dtype: int64"
            ]
          },
          "execution_count": 63,
          "metadata": {},
          "output_type": "execute_result"
        }
      ],
      "source": [
        "df.isnull().sum()"
      ]
    },
    {
      "cell_type": "code",
      "execution_count": 64,
      "metadata": {},
      "outputs": [],
      "source": [
        "# df.iloc[1000,:]"
      ]
    },
    {
      "cell_type": "code",
      "execution_count": 65,
      "metadata": {},
      "outputs": [],
      "source": [
        "# df.drop(1000, axis = 0, inplace = True)"
      ]
    },
    {
      "cell_type": "markdown",
      "metadata": {},
      "source": [
        "Đa số các cột có 1 giá trị NaN, để ý thấy hàng có index 1000 của df chứa toàn các giá trị NaN, nhóm quyết định drop hàng này. Do đó chỉ còn 2 cột có một vài giá trị khuyết đó là `Number of employees 2020` và `Number of employees 2017`"
      ]
    },
    {
      "cell_type": "code",
      "execution_count": 66,
      "metadata": {},
      "outputs": [
        {
          "data": {
            "text/html": [
              "<div>\n",
              "<style scoped>\n",
              "    .dataframe tbody tr th:only-of-type {\n",
              "        vertical-align: middle;\n",
              "    }\n",
              "\n",
              "    .dataframe tbody tr th {\n",
              "        vertical-align: top;\n",
              "    }\n",
              "\n",
              "    .dataframe thead th {\n",
              "        text-align: right;\n",
              "    }\n",
              "</style>\n",
              "<table border=\"1\" class=\"dataframe\">\n",
              "  <thead>\n",
              "    <tr style=\"text-align: right;\">\n",
              "      <th></th>\n",
              "      <th>Rank</th>\n",
              "      <th>Name</th>\n",
              "      <th>in 2021 ranking</th>\n",
              "      <th>in 2020 ranking</th>\n",
              "      <th>Country</th>\n",
              "      <th>Sector</th>\n",
              "      <th>Absolute Growth Rate %</th>\n",
              "      <th>Compound Annual Growth Rate (CAGR) %</th>\n",
              "      <th>Revenue 2020 (€)</th>\n",
              "      <th>Revenue 2017 (€)</th>\n",
              "      <th>Number of employees 2020</th>\n",
              "      <th>Number of employees 2017</th>\n",
              "      <th>Founding Year</th>\n",
              "    </tr>\n",
              "  </thead>\n",
              "  <tbody>\n",
              "  </tbody>\n",
              "</table>\n",
              "</div>"
            ],
            "text/plain": [
              "Empty DataFrame\n",
              "Columns: [Rank, Name, in 2021 ranking, in 2020 ranking, Country, Sector, Absolute Growth Rate %, Compound Annual Growth Rate (CAGR) %, Revenue 2020 (€), Revenue 2017 (€), Number of employees 2020, Number of employees 2017, Founding Year]\n",
              "Index: []"
            ]
          },
          "execution_count": 66,
          "metadata": {},
          "output_type": "execute_result"
        }
      ],
      "source": [
        "df[df.isnull().any(axis = 1)]"
      ]
    },
    {
      "cell_type": "code",
      "execution_count": 67,
      "metadata": {},
      "outputs": [
        {
          "data": {
            "text/plain": [
              "<AxesSubplot: >"
            ]
          },
          "execution_count": 67,
          "metadata": {},
          "output_type": "execute_result"
        },
        {
          "data": {
            "image/png": "[encoded data removed]",
            "text/plain": [
              "<Figure size 640x480 with 1 Axes>"
            ]
          },
          "metadata": {},
          "output_type": "display_data"
        }
      ],
      "source": [
        "df['Number of employees 2020'].plot(kind = 'box')"
      ]
    },
    {
      "cell_type": "markdown",
      "metadata": {},
      "source": [
        "Quan sát thấy phân bố của cột `Number of employees 2020` bị skew quá lớn, do đó nhóm quyết định sử dụng giá trị trung vị của cột này để điền vào các giá trị khuyết"
      ]
    },
    {
      "cell_type": "code",
      "execution_count": 68,
      "metadata": {},
      "outputs": [],
      "source": [
        "df['Number of employees 2020'].fillna(df['Number of employees 2020'].median(), inplace = True)"
      ]
    },
    {
      "cell_type": "markdown",
      "metadata": {},
      "source": [
        "Với trường hợp của cột `Number of employees 2020`, ta thấy cột này có cả kiểu dữ liệu str, trước khi tiến hành xử lí các missing value, ta sẽ đi tìm hiểu các dòng chứa str trong cột này"
      ]
    },
    {
      "cell_type": "code",
      "execution_count": 69,
      "metadata": {},
      "outputs": [
        {
          "data": {
            "text/plain": [
              "Series([], Name: Number of employees 2017, dtype: int64)"
            ]
          },
          "execution_count": 69,
          "metadata": {},
          "output_type": "execute_result"
        }
      ],
      "source": [
        "df[[isinstance(value, str) for value in df['Number of employees 2017']]]['Number of employees 2017']"
      ]
    },
    {
      "cell_type": "code",
      "execution_count": 70,
      "metadata": {},
      "outputs": [
        {
          "data": {
            "text/plain": [
              "0"
            ]
          },
          "execution_count": 70,
          "metadata": {},
          "output_type": "execute_result"
        }
      ],
      "source": [
        "(df['Number of employees 2017'] == 'na').sum()"
      ]
    },
    {
      "cell_type": "markdown",
      "metadata": {},
      "source": [
        "Cột này ngoài chứa các giá trị số ở dạng str còn chứa str `'na'`, ta thay các giá trị này bằng `np.nan`"
      ]
    },
    {
      "cell_type": "code",
      "execution_count": 71,
      "metadata": {},
      "outputs": [],
      "source": [
        "df.replace('na', np.nan, inplace = True)"
      ]
    },
    {
      "cell_type": "code",
      "execution_count": 72,
      "metadata": {},
      "outputs": [],
      "source": [
        "df['Number of employees 2017'] = df['Number of employees 2017'].astype(float)\n",
        "df['Number of employees 2017'].fillna(df['Number of employees 2017'].median(), inplace = True)"
      ]
    },
    {
      "cell_type": "code",
      "execution_count": 73,
      "metadata": {},
      "outputs": [
        {
          "data": {
            "text/plain": [
              "Rank                                    0\n",
              "Name                                    0\n",
              "in 2021 ranking                         0\n",
              "in 2020 ranking                         0\n",
              "Country                                 0\n",
              "Sector                                  0\n",
              "Absolute Growth Rate %                  0\n",
              "Compound Annual Growth Rate (CAGR) %    0\n",
              "Revenue 2020 (€)                        0\n",
              "Revenue 2017 (€)                        0\n",
              "Number of employees 2020                0\n",
              "Number of employees 2017                0\n",
              "Founding Year                           0\n",
              "dtype: int64"
            ]
          },
          "execution_count": 73,
          "metadata": {},
          "output_type": "execute_result"
        }
      ],
      "source": [
        "df.isnull().sum()"
      ]
    },
    {
      "cell_type": "markdown",
      "metadata": {},
      "source": [
        "Sau khi đã xử lí hết các missing value, ta chuyển đổi kiểu dữ liệu của các cột cho phù hợp"
      ]
    },
    {
      "cell_type": "code",
      "execution_count": 74,
      "metadata": {},
      "outputs": [],
      "source": [
        "df.iloc[:, [0, 8, 9, 10, 11, 12]] = df.iloc[:, [0, 8, 9, 10, 11, 12]].astype(int)"
      ]
    },
    {
      "cell_type": "markdown",
      "metadata": {},
      "source": [
        "## 2.4. Duplicated rows\n",
        "Kiểm tra xem dữ liệu có dòng nào bị trùng hay không"
      ]
    },
    {
      "cell_type": "code",
      "execution_count": 75,
      "metadata": {},
      "outputs": [
        {
          "data": {
            "text/plain": [
              "0"
            ]
          },
          "execution_count": 75,
          "metadata": {},
          "output_type": "execute_result"
        }
      ],
      "source": [
        "df.duplicated().sum()"
      ]
    },
    {
      "cell_type": "markdown",
      "metadata": {},
      "source": [
        "Ngoài việc kiểm tra từng dòng trên tất cả các cột, ta còn cần kiểm tra giá trị lặp trên cột `Rank` và `Name` vì 2 cột này được xem như key value, mỗi `Rank` phải nằm trong khoảng từ 1 tơi 1000 và không được trùng nhau, mỗi công ty chỉ được xếp hạng đúng một lần"
      ]
    },
    {
      "cell_type": "code",
      "execution_count": 76,
      "metadata": {},
      "outputs": [
        {
          "data": {
            "text/plain": [
              "0"
            ]
          },
          "execution_count": 76,
          "metadata": {},
          "output_type": "execute_result"
        }
      ],
      "source": [
        "df['Rank'].duplicated().sum()"
      ]
    },
    {
      "cell_type": "code",
      "execution_count": 77,
      "metadata": {},
      "outputs": [
        {
          "data": {
            "text/plain": [
              "1000"
            ]
          },
          "execution_count": 77,
          "metadata": {},
          "output_type": "execute_result"
        }
      ],
      "source": [
        "((df['Rank'] <= 1000) & (df['Rank'] >= 1)).sum()"
      ]
    },
    {
      "cell_type": "code",
      "execution_count": 78,
      "metadata": {},
      "outputs": [
        {
          "data": {
            "text/plain": [
              "0"
            ]
          },
          "execution_count": 78,
          "metadata": {},
          "output_type": "execute_result"
        }
      ],
      "source": [
        "df['Name'].duplicated().sum()"
      ]
    },
    {
      "cell_type": "markdown",
      "metadata": {},
      "source": [
        "## 2.5. Outliers\n",
        "Ở phần này nhóm tiến hành kiểm tra outliers ở các cốt. Cột `Rank` và `Name` là key value, do đó không kiểm tra outliers trên các cột này"
      ]
    },
    {
      "cell_type": "markdown",
      "metadata": {},
      "source": [
        "### 2.5.1. Các cột categorical"
      ]
    },
    {
      "cell_type": "code",
      "execution_count": 79,
      "metadata": {},
      "outputs": [
        {
          "data": {
            "text/plain": [
              "No     852\n",
              "Yes    148\n",
              "Name: in 2020 ranking, dtype: int64"
            ]
          },
          "execution_count": 79,
          "metadata": {},
          "output_type": "execute_result"
        }
      ],
      "source": [
        "df['in 2020 ranking'].value_counts()"
      ]
    },
    {
      "cell_type": "code",
      "execution_count": 80,
      "metadata": {},
      "outputs": [
        {
          "data": {
            "text/plain": [
              "No     694\n",
              "Yes    306\n",
              "Name: in 2021 ranking, dtype: int64"
            ]
          },
          "execution_count": 80,
          "metadata": {},
          "output_type": "execute_result"
        }
      ],
      "source": [
        "df['in 2021 ranking'].value_counts()"
      ]
    },
    {
      "cell_type": "code",
      "execution_count": 81,
      "metadata": {},
      "outputs": [
        {
          "data": {
            "text/plain": [
              "Italy              235\n",
              "Germany            194\n",
              "UK                 155\n",
              "France             147\n",
              "Spain               49\n",
              "Poland              34\n",
              "Sweden              28\n",
              "The Netherlands     19\n",
              "Hungary             13\n",
              "Czech Republic      11\n",
              "Lithuania           11\n",
              "Finland             11\n",
              "Norway              11\n",
              "Belgium             10\n",
              "Romania              8\n",
              "Bulgaria             7\n",
              "Portugal             7\n",
              "Slovakia             7\n",
              "Croatia              7\n",
              "Denmark              6\n",
              "Greece               5\n",
              "Austria              5\n",
              "Ireland              4\n",
              "Switzerland          4\n",
              "Estonia              4\n",
              "Cyprus               3\n",
              "Slovenia             2\n",
              "Latvia               1\n",
              "Luxembourg           1\n",
              "Liechtenstein        1\n",
              "Name: Country, dtype: int64"
            ]
          },
          "execution_count": 81,
          "metadata": {},
          "output_type": "execute_result"
        }
      ],
      "source": [
        "df['Country'].value_counts()"
      ]
    },
    {
      "cell_type": "markdown",
      "metadata": {},
      "source": [
        "Có tới 30 quốc gia có công ty tham gia xếp hạng nhưng chủ yếu chỉ tập trung ở top 5, 6 quốc gia đầu tiên, phần lớn còn lại nằm ở mức dưới 10 công ty một quốc gia. Nhiều quốc gia chỉ có từ 1 tới 2 công ty tham gia. Sau khi bàn bạc, nhóm quyết định gom nhóm các quốc gia có từ 5 công ty trở xuống vào một nhóm, gọi là `Other` và lưu vào cột `Country1`"
      ]
    },
    {
      "cell_type": "code",
      "execution_count": 82,
      "metadata": {},
      "outputs": [],
      "source": [
        "other_country = df['Country'].value_counts()[df['Country'].value_counts() <= 5].index\n",
        "df['Country1'] = df['Country']\n",
        "df['Country1'].replace(other_country, 'Other', inplace = True)"
      ]
    },
    {
      "cell_type": "code",
      "execution_count": 83,
      "metadata": {},
      "outputs": [
        {
          "data": {
            "text/plain": [
              "0"
            ]
          },
          "execution_count": 83,
          "metadata": {},
          "output_type": "execute_result"
        }
      ],
      "source": [
        "df['Sector'].value_counts()\n",
        "(df.iloc[:, 13:].isnull().sum() == 1001).sum()"
      ]
    },
    {
      "cell_type": "markdown",
      "metadata": {},
      "source": [
        "Có 39 lĩnh vực các công ty tham gia xếp hạng hoạt động, quá nửa trong số đó có từ 10 công ty tham gia hoạt động so với top 1 tới 209 công ty. Dù vậy sau khi bàn bạc, nhóm quyết định gom nhóm các lĩnh vực có từ 7 công ty trở xuống và gom vào nhóm `Other`, lưu vào cột `Sector1`"
      ]
    },
    {
      "cell_type": "code",
      "execution_count": 84,
      "metadata": {},
      "outputs": [],
      "source": [
        "other_country = df['Sector'].value_counts()[df['Sector'].value_counts() <= 5].index\n",
        "df['Sector1'] = df['Sector']\n",
        "df['Sector1'].replace(other_country, 'Other', inplace = True)"
      ]
    },
    {
      "cell_type": "markdown",
      "metadata": {},
      "source": [
        "### 2.5.2. Các cột numerical\n"
      ]
    },
    {
      "cell_type": "code",
      "execution_count": 85,
      "metadata": {},
      "outputs": [
        {
          "data": {
            "image/png": "[encoded data removed]",
            "text/plain": [
              "<Figure size 2000x1000 with 8 Axes>"
            ]
          },
          "metadata": {},
          "output_type": "display_data"
        }
      ],
      "source": [
        "numerical_columns = df.keys()[6:]\n",
        "\n",
        "fig, axes = plt.subplots(ncols = 4, nrows = 2, figsize = (20, 10))\n",
        "fig.subplots_adjust(hspace = 0.3)\n",
        "\n",
        "for i, ax in enumerate(axes.flatten()[:7]):\n",
        "    sns.boxplot(df[numerical_columns[i]], ax = ax)"
      ]
    },
    {
      "cell_type": "markdown",
      "metadata": {},
      "source": [
        "Tuy ở các cột đều xuất hiện outliers nhưng theo `Financial Times`, các outliers này đều đã được kiểm tra và đánh giá bởi `Statista`, do đó nhóm cũng sẽ không can thiệp vào các outliers này "
      ]
    },
    {
      "cell_type": "markdown",
      "metadata": {},
      "source": [
        "## 2.6. Xóa cột Absolute Growth Rate %\n",
        "Ở đây nhóm nhận thấy cách tính và ý nghĩa của Absolute Growth Rate và Compound Annual Growth Rate khá tương tự, tuy nhiên Compound Annual Growth Rate cho biết tốc độ tăng trưởng trung bình theo năm, có nhiều ý nghĩa hơn, do đó ta chỉ cần giữ lại cột này và xóa cột Absolute Growth Rate"
      ]
    },
    {
      "cell_type": "code",
      "execution_count": 86,
      "metadata": {},
      "outputs": [],
      "source": [
        "df.drop(columns = ['Absolute Growth Rate %'], inplace = True)"
      ]
    },
    {
      "cell_type": "markdown",
      "metadata": {},
      "source": [
        "## 2.7. Đổi tên một số cột\n",
        "Để thuận tiện cho việc truy xuất dữ liệu về sau, nhóm tiến hành đổi tên một số cột như sau:\n",
        "- in 2021 ranking -> Ranked2021\n",
        "- in 2020 ranking -> Ranked2020\n",
        "- Compound Annual Growth Rate (CAGR) % -> CAGR\n",
        "- Revenue 2020 (€) -> Revenue2020\n",
        "- Revenue 2017 (€) -> Revenue2017\n",
        "- Number of employees 2020 -> Employees2020\n",
        "- Number of employees 2017 -> Employees2017\n",
        "- Founding Year -> FoundingYear"
      ]
    },
    {
      "cell_type": "code",
      "execution_count": 87,
      "metadata": {},
      "outputs": [],
      "source": [
        "df = df.rename(columns = {\n",
        "    'in 2021 ranking': 'Ranked2021',\n",
        "    'in 2020 ranking': 'Ranked2020',\n",
        "    'Number of employees 2020': 'Employees2020',\n",
        "    'Number of employees 2017': 'Employees2017',\n",
        "    'Revenue 2020 (€)': 'Revenue2020',\n",
        "    'Revenue 2017 (€)': 'Revenue2017',\n",
        "    'Compound Annual Growth Rate (CAGR) %': 'CAGR',\n",
        "    'Founding Year': 'FoundingYear'\n",
        "})"
      ]
    },
    {
      "cell_type": "markdown",
      "metadata": {},
      "source": [
        "### 2.8. Sửa cột FoundingYear\n",
        "Khi đang khảo sát mối quan hệ giữa cột FoundingYear và CAGR, nhóm phát hiện có một công ty được ghi nhận thành lập năm 2021"
      ]
    },
    {
      "cell_type": "code",
      "execution_count": 88,
      "metadata": {},
      "outputs": [
        {
          "data": {
            "text/html": [
              "<div>\n",
              "<style scoped>\n",
              "    .dataframe tbody tr th:only-of-type {\n",
              "        vertical-align: middle;\n",
              "    }\n",
              "\n",
              "    .dataframe tbody tr th {\n",
              "        vertical-align: top;\n",
              "    }\n",
              "\n",
              "    .dataframe thead th {\n",
              "        text-align: right;\n",
              "    }\n",
              "</style>\n",
              "<table border=\"1\" class=\"dataframe\">\n",
              "  <thead>\n",
              "    <tr style=\"text-align: right;\">\n",
              "      <th></th>\n",
              "      <th>Rank</th>\n",
              "      <th>Name</th>\n",
              "      <th>Ranked2021</th>\n",
              "      <th>Ranked2020</th>\n",
              "      <th>Country</th>\n",
              "      <th>Sector</th>\n",
              "      <th>CAGR</th>\n",
              "      <th>Revenue2020</th>\n",
              "      <th>Revenue2017</th>\n",
              "      <th>Employees2020</th>\n",
              "      <th>Employees2017</th>\n",
              "      <th>FoundingYear</th>\n",
              "      <th>Country1</th>\n",
              "      <th>Sector1</th>\n",
              "    </tr>\n",
              "  </thead>\n",
              "  <tbody>\n",
              "    <tr>\n",
              "      <th>990</th>\n",
              "      <td>991</td>\n",
              "      <td>Meblobranie.pl</td>\n",
              "      <td>Yes</td>\n",
              "      <td>Yes</td>\n",
              "      <td>Poland</td>\n",
              "      <td>Ecommerce</td>\n",
              "      <td>36.71</td>\n",
              "      <td>19295429</td>\n",
              "      <td>6909799</td>\n",
              "      <td>25</td>\n",
              "      <td>12</td>\n",
              "      <td>2021</td>\n",
              "      <td>Poland</td>\n",
              "      <td>Ecommerce</td>\n",
              "    </tr>\n",
              "  </tbody>\n",
              "</table>\n",
              "</div>"
            ],
            "text/plain": [
              "     Rank            Name Ranked2021 Ranked2020 Country     Sector   CAGR  \\\n",
              "990   991  Meblobranie.pl        Yes        Yes  Poland  Ecommerce  36.71   \n",
              "\n",
              "     Revenue2020  Revenue2017  Employees2020  Employees2017  FoundingYear  \\\n",
              "990     19295429      6909799             25             12          2021   \n",
              "\n",
              "    Country1    Sector1  \n",
              "990   Poland  Ecommerce  "
            ]
          },
          "execution_count": 88,
          "metadata": {},
          "output_type": "execute_result"
        }
      ],
      "source": [
        "df[df['FoundingYear'] == 2021]"
      ]
    },
    {
      "cell_type": "markdown",
      "metadata": {},
      "source": [
        "Sau khi tra cứu từ Google, nhóm ghi nhận công ty Meblobranie.pl được thành lập năm 2011, có thể đây là do lỗi typo"
      ]
    },
    {
      "cell_type": "code",
      "execution_count": 89,
      "metadata": {},
      "outputs": [],
      "source": [
        "df.loc[990, 'FoundingYear'] = 2011"
      ]
    },
    {
      "cell_type": "code",
      "execution_count": 90,
      "metadata": {},
      "outputs": [],
      "source": [
        "df.to_csv('data/FT1000_v1.csv', index = False)"
      ]
    }
  ],
  "metadata": {
    "kernelspec": {
      "display_name": "Python 3.6.6 64-bit",
      "language": "python",
      "name": "python3"
    },
    "language_info": {
      "codemirror_mode": {
        "name": "ipython",
        "version": 3
      },
      "file_extension": ".py",
      "mimetype": "text/x-python",
      "name": "python",
      "nbconvert_exporter": "python",
      "pygments_lexer": "ipython3",
      "version": "3.10.6"
    },
    "orig_nbformat": 4,
    "vscode": {
      "interpreter": {
        "hash": "916dbcbb3f70747c44a77c7bcd40155683ae19c65e1c03b4aa3499c5328201f1"
      }
    }
  },
  "nbformat": 4,
  "nbformat_minor": 2
}
