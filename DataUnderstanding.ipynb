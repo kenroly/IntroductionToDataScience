{
 "cells": [
  {
   "cell_type": "code",
   "execution_count": null,
   "metadata": {},
   "outputs": [],
   "source": [
    "import pandas as pd\n",
    "import numpy as np\n",
    "import matplotlib.pyplot as plt\n",
    "import seaborn as sns   \n",
    "import warnings\n",
    "import plotly.express as px\n",
    "import plotly.graph_objects as go\n",
    "from plotly.subplots import make_subplots\n",
    "\n",
    "sns.set_theme(style=\"darkgrid\")\n",
    "warnings.filterwarnings('ignore')"
   ]
  },
  {
   "cell_type": "code",
   "execution_count": null,
   "metadata": {},
   "outputs": [],
   "source": [
    "df = pd.read_csv('data/FT1000_v1.csv')\n",
    "df.head()"
   ]
  },
  {
   "cell_type": "markdown",
   "metadata": {},
   "source": [
    "### 3.2.4. Quan hệ giữa cột `Sector` và `CAGR`"
   ]
  },
  {
   "cell_type": "code",
   "execution_count": null,
   "metadata": {},
   "outputs": [],
   "source": [
    "plt.figure(figsize = (7, 13))\n",
    "\n",
    "ax = sns.boxplot(data = df, x = 'CAGR', y = 'Sector1', color = 'C0')\n",
    "\n",
    "ax.set_xlabel('')\n",
    "ax.set_ylabel('')\n",
    "ax.set_title('CAGR by sector');"
   ]
  },
  {
   "cell_type": "markdown",
   "metadata": {},
   "source": [
    "- Đa số khoảng tứ phân vị của các lĩnh vực nằm dưới mức 100%, mỗi số lĩnh vực trải rộng hơn như Property, Personal & Household Goods có khoảng tứ phân vị trải rộng hơn\n",
    "- Đa số các lĩnh vực có phân bố dưới 200% CAGR, chỉ một nửa các lĩnh vực top đầu có các outliers vượt lên 200%, đặc biệt Technology có công ty đạt tới hơn 400% CAGR"
   ]
  },
  {
   "cell_type": "markdown",
   "metadata": {},
   "source": [
    "### 3.2.5. Quan hệ giữa cột `Sector` và `Revenue`\n",
    "Ở đây nhóm chỉ xét Revenue năm 2020"
   ]
  },
  {
   "cell_type": "code",
   "execution_count": null,
   "metadata": {},
   "outputs": [],
   "source": [
    "plt.figure(figsize = (7, 13))\n",
    "\n",
    "ax = sns.boxplot(data = df, x = 'Revenue2020', y = 'Sector1', color = 'C0')\n",
    "\n",
    "ax.set_xscale('log')\n",
    "ax.set_xlabel('')\n",
    "ax.set_ylabel('')\n",
    "ax.set_title('Revenue 2020 by sector');"
   ]
  },
  {
   "cell_type": "markdown",
   "metadata": {},
   "source": [
    "Dù có sự biến động trong CAGR tối đa nhưng nhìn chung các công ty càng thành lập ở những năm về sau có mức CAGR trung binh càng cao hơn."
   ]
  },
  {
   "cell_type": "markdown",
   "metadata": {},
   "source": [
    "### 3.2.6. Quan hệ giữa cột `Revenue2020` và `Revenue2017`\n",
    "Cho thấy mối quan hệ giữa doanh thu năm 2020 và 2017"
   ]
  },
  {
   "cell_type": "code",
   "execution_count": null,
   "metadata": {},
   "outputs": [],
   "source": [
    "fig, axes = plt.subplots(ncols = 2, figsize = (12, 5))\n",
    "fig.subplots_adjust(wspace = 0.3)\n",
    "\n",
    "sns.scatterplot(data = df, x = 'Revenue2017', y = 'Revenue2020', hue = 'CAGR', size = 'CAGR', edgecolor = 'None', palette = 'viridis', ax = axes[0])\n",
    "axes[0].set_xlabel('Revenue 2017')\n",
    "axes[0].set_ylabel('Revenue 2020')\n",
    "axes[0].set_title('Revenue 2017 vs Revenue 2020\\n(linear scale)')\n",
    "\n",
    "sns.scatterplot(data = df, x = 'Revenue2017', y = 'Revenue2020', hue = 'CAGR', size = 'CAGR', edgecolor = 'None', palette = 'viridis', ax = axes[1])\n",
    "axes[1].set_xlabel('Revenue 2017')\n",
    "axes[1].set_ylabel('Revenue 2020')\n",
    "axes[1].set_xscale('log')\n",
    "axes[1].set_yscale('log')\n",
    "axes[1].set_aspect('equal')\n",
    "axes[1].set_title('Revenue 2017 vs Revenue 2020\\n(log scale)');"
   ]
  },
  {
   "cell_type": "markdown",
   "metadata": {},
   "source": [
    "### 3.2.7. Quan hệ giữa cột `Employees2020` và `Employees2017`\n",
    "Cho thấy mối quan hệ giữa doanh thu năm 2020 và 2017"
   ]
  },
  {
   "cell_type": "code",
   "execution_count": null,
   "metadata": {},
   "outputs": [],
   "source": [
    "fig, axes = plt.subplots(ncols = 2, figsize = (12, 5))\n",
    "fig.subplots_adjust(wspace = 0.3)\n",
    "\n",
    "sns.scatterplot(data = df, x = 'Employees2017', y = 'Employees2020', hue = 'CAGR', size = 'CAGR', edgecolor = 'None', palette = 'viridis', ax = axes[0])\n",
    "axes[0].set_xlabel('Employees 2017')\n",
    "axes[0].set_ylabel('Employees 2020')\n",
    "axes[0].set_title('Employees 2017 vs Employees 2020\\n(linear scale)')\n",
    "\n",
    "sns.scatterplot(data = df, x = 'Employees2017', y = 'Employees2020', hue = 'CAGR', size = 'CAGR', edgecolor = 'None', palette = 'viridis', ax = axes[1])\n",
    "axes[1].set_xlabel('Employees 2017')\n",
    "axes[1].set_ylabel('Employees 2020')\n",
    "axes[1].set_xscale('log')\n",
    "axes[1].set_yscale('log')\n",
    "axes[1].set_aspect('equal')\n",
    "axes[1].set_title('Employees 2017 vs Employees 2020\\n(log scale)');"
   ]
  }
 ],
 "metadata": {
  "language_info": {
   "name": "python"
  },
  "orig_nbformat": 4
 },
 "nbformat": 4,
 "nbformat_minor": 2
}
