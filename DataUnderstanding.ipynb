{
 "cells": [
  {
   "cell_type": "markdown",
   "metadata": {},
   "source": [
    "# 0. Import Library"
   ]
  },
  {
   "cell_type": "code",
   "execution_count": null,
   "metadata": {},
   "outputs": [],
   "source": [
    "import pandas as pd\n",
    "import numpy as np\n",
    "import matplotlib.pyplot as plt\n",
    "import seaborn as sns  \n",
    "import warnings\n",
    "import plotly.express as px\n",
    "import plotly.graph_objects as go\n",
    "from plotly.subplots import make_subplots\n",
    "\n",
    "sns.set_theme(style=\"darkgrid\")\n",
    "warnings.filterwarnings('ignore')"
   ]
  },
  {
   "cell_type": "code",
   "execution_count": null,
   "metadata": {},
   "outputs": [],
   "source": [
    "df = pd.read_csv('data/FT1000_v1.csv')\n",
    "df.head()"
   ]
  },
  {
   "cell_type": "markdown",
   "metadata": {},
   "source": [
    "### 3.1.5. Phân bố của cột `Revenue`"
   ]
  },
  {
   "cell_type": "code",
   "execution_count": null,
   "metadata": {},
   "outputs": [],
   "source": [
    "fig, axes = plt.subplots(ncols = 2, figsize = (15, 4))\n",
    "\n",
    "sns.boxplot(df['Revenue2017'], ax = axes[0])\n",
    "sns.boxplot(df['Revenue2020'], ax = axes[1])\n",
    "\n",
    "axes[0].set_title('Log10 of Revenue in 2017')\n",
    "axes[1].set_title('Log10 of Revenue in 2020')\n",
    "\n",
    "axes[0].set_xlabel('')\n",
    "axes[1].set_xlabel('')\n",
    "\n",
    "axes[0].set_xscale('log')\n",
    "axes[1].set_xscale('log')"
   ]
  },
  {
   "cell_type": "markdown",
   "metadata": {},
   "source": [
    "- Năm 2017, đa số các công ty có doanh thu dưới $ 10^{7}$ triệu Euro , tập trung ở mức $10^{5.8} \\approx{600,000}$ Euro tới $10^{6.5} \\approx{3.1}$ triệu Euro, ngoại trừ một số công ty top đầu có doanh thu từ trên $ 10^{8}$ triệu Euro tới 100 triệu Euro\n",
    "- Ở năm 2020, doanh thu các công ty chủ yếu dưới mức $ 10^{7.5} \\approx{31} $ triệu Euro, tập trung trong khoảng $10^{6.5} \\approx{3.1}$ triệu Euro tới $10^{7.2} \\approx{15}$ triệu Euro, ngoại trừ một số công ty có mức doanh thu từ trên 200 triệu Euro tới mức tối đa là xấp xỉ 2 tỉ Euro"
   ]
  },
  {
   "cell_type": "markdown",
   "metadata": {},
   "source": [
    "### 3.1.6. Phân bố của cột `Employees2020` và `Employees2017`"
   ]
  },
  {
   "cell_type": "code",
   "execution_count": null,
   "metadata": {},
   "outputs": [],
   "source": [
    "fig, axes = plt.subplots(ncols = 2, figsize = (15, 4))\n",
    "\n",
    "sns.boxplot(df['Employees2017'], ax = axes[0])\n",
    "sns.boxplot(df['Employees2020'], ax = axes[1])\n",
    "\n",
    "axes[0].set_title('Log10 of Number of employees 2017')\n",
    "axes[1].set_title('Log10 of Number of employees 2020')\n",
    "\n",
    "axes[0].set_xlabel('')\n",
    "axes[1].set_xlabel('')\n",
    "\n",
    "axes[0].set_xscale('log')\n",
    "axes[1].set_xscale('log')"
   ]
  },
  {
   "cell_type": "markdown",
   "metadata": {},
   "source": [
    "- Năm 2017, đa số công ty có dưới $ 10^{1.6} \\approx{40}$ nhân viên, tập trung trong khoảng từ $ 10^{0.5} \\approx{3}$ người đến $ 10^{1.5} \\approx{30 người}$, ngoài một số công ty có số nhân viên đông hơn từ 300 tới 1000 người\n",
    "- Năm 2020, đa số công ty có dưới $ 10^{2.2} \\approx{150}$ nhân viên, tập trung khoảng từ  $10$ người đến $100$, ngoại trừ một số công ty đông hơn lên đến gần $2000$ người"
   ]
  },
  {
   "cell_type": "markdown",
   "metadata": {},
   "source": [
    "### 3.1.7. Phân bố cột `Founding Year`\n",
    "Cột này cho biết năm thành lập của công ty"
   ]
  },
  {
   "cell_type": "code",
   "execution_count": null,
   "metadata": {},
   "outputs": [],
   "source": [
    "plt.figure(figsize = (9, 4))\n",
    "\n",
    "ax = sns.boxplot(df['FoundingYear'])\n",
    "ax.set_xlabel('Founding year')\n",
    "ax.set_xlabel('');"
   ]
  },
  {
   "cell_type": "markdown",
   "metadata": {},
   "source": [
    "Đa số các công ty được thành lập vào thế kỉ 20, vào khoảng sau năm 2010, một vài công ty được thành lập từ rất lâu, công ty lâu đời nhất được thành lập từ trước năm 1900 "
   ]
  }
 ],
 "metadata": {
  "kernelspec": {
   "display_name": "Python 3.8.8 ('min_ds-env')",
   "language": "python",
   "name": "python3"
  },
  "language_info": {
   "codemirror_mode": {
    "name": "ipython",
    "version": 3
   },
   "file_extension": ".py",
   "mimetype": "text/x-python",
   "name": "python",
   "nbconvert_exporter": "python",
   "pygments_lexer": "ipython3",
   "version": "3.8.8"
  },
  "orig_nbformat": 4,
  "vscode": {
   "interpreter": {
    "hash": "ececfb6bf31042b107d3c91c66aeca0ca911791a1728d26b711567c0789e643e"
   }
  }
 },
 "nbformat": 4,
 "nbformat_minor": 2
}
