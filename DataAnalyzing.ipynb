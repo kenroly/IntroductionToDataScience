{
 "cells": [
  {
   "cell_type": "markdown",
   "metadata": {},
   "source": [
    "# 0. Import Library"
   ]
  },
  {
   "cell_type": "code",
   "execution_count": null,
   "metadata": {},
   "outputs": [],
   "source": [
    "import pandas as pd\n",
    "import numpy as np\n",
    "import matplotlib.pyplot as plt\n",
    "import seaborn as sns   \n",
    "import warnings\n",
    "import plotly.express as px\n",
    "import plotly.graph_objects as go\n",
    "\n",
    "sns.set_theme(style=\"darkgrid\")\n",
    "warnings.filterwarnings('ignore')"
   ]
  },
  {
   "cell_type": "code",
   "execution_count": null,
   "metadata": {},
   "outputs": [],
   "source": [
    "df = pd.read_csv('data/FT1000_v1.csv')\n",
    "df.head()"
   ]
  },
  {
   "cell_type": "markdown",
   "metadata": {},
   "source": [
    "# 4. Data Analyzing\n",
    "## 4.1. Câu hỏi 1 \n",
    "**Câu hỏi:** Lĩnh vực có tốc độ tăng trưởng nhanh nhất ở các nước\n",
    "\n",
    "**Ý nghĩa:** Biết được lĩnh vực có tốc độ tăng trưởng nhanh ở từng nước, các stakeholder (có thể là chính phủ các nước, EU,...) sẽ có chính sách phù hợp để phân bổ nhân lực, vật lực phù hợp để tiếp tục đẩy mạnh phát triển lĩnh vực đó"
   ]
  },
  {
   "cell_type": "code",
   "execution_count": null,
   "metadata": {},
   "outputs": [],
   "source": [
    "data = df[['Country', 'Sector', 'CAGR']].groupby(['Country', 'Sector']).sum().reset_index().sort_values(by=['CAGR'], ascending=False)\n",
    "data.drop_duplicates(subset = ['Country'], keep = 'first', inplace = True)"
   ]
  },
  {
   "cell_type": "code",
   "execution_count": null,
   "metadata": {},
   "outputs": [],
   "source": [
    "fig = px.choropleth(\n",
    "    data_frame = data, locations = 'Country', locationmode = 'country names', color = 'Sector', \n",
    "    color_discrete_sequence=px.colors.qualitative.Bold, width = 800, height = 600)\n",
    "    \n",
    "fig.update_layout(\n",
    "    title = 'Sector with highest CAGR sum by Country',\n",
    "    title_x = 0.5,\n",
    "    legend = dict(\n",
    "        # orientation = 'h', x = 1, y = 1, xanchor = 'right', yanchor = 'top',\n",
    "    ), \n",
    "    margin = {'t': 30, 'b': 0, 'l': 0, 'r': 0},\n",
    "    geo = go.layout.Geo(\n",
    "        projection = go.layout.geo.Projection(scale = 1.5),\n",
    "        scope = 'europe',\n",
    "    )\n",
    ")\n",
    "fig.show()"
   ]
  },
  {
   "cell_type": "markdown",
   "metadata": {},
   "source": [
    "Đa số các nước có tổng CAGR cao nhất ở lĩnh vực Technology (Công nghệ), một số lĩnh vực khác chiếm lĩnh vị trí CAGR cao nhất ở một vài nước là Energy (Năng lượng), Health (Sức khỏe). "
   ]
  },
  {
   "cell_type": "markdown",
   "metadata": {},
   "source": [
    "## 4.2. Câu hỏi 2\n",
    "**Câu hỏi**: Quốc gia nào có tốc độ tăng trưởng cao ở nhiều lĩnh vực"
   ]
  },
  {
   "cell_type": "code",
   "execution_count": null,
   "metadata": {},
   "outputs": [],
   "source": [
    "data = df[['Country', 'Sector']].value_counts().reset_index()[['Country', 'Sector']].groupby('Country').count().reset_index()\n",
    "\n",
    "fig = px.choropleth(\n",
    "    data_frame = data, locations = 'Country', locationmode = 'country names', color = 'Sector', \n",
    "    color_discrete_sequence=px.colors.qualitative.Bold, width = 800, height = 600)\n",
    "    \n",
    "fig.update_layout(\n",
    "    title = 'Sector count by Country',\n",
    "    title_x = 0.5,\n",
    "    legend = dict(\n",
    "        # orientation = 'h', x = 1, y = 1, xanchor = 'right', yanchor = 'top',\n",
    "    ), \n",
    "    margin = {'t': 30, 'b': 0, 'l': 0, 'r': 0},\n",
    "    geo = go.layout.Geo(\n",
    "        projection = go.layout.geo.Projection(scale = 1.5),\n",
    "        scope = 'europe',\n",
    "    )\n",
    ")\n",
    "fig.show()"
   ]
  }
 ],
 "metadata": {
  "kernelspec": {
   "display_name": "Python 3.8.8 ('min_ds-env')",
   "language": "python",
   "name": "python3"
  },
  "language_info": {
   "codemirror_mode": {
    "name": "ipython",
    "version": 3
   },
   "file_extension": ".py",
   "mimetype": "text/x-python",
   "name": "python",
   "nbconvert_exporter": "python",
   "pygments_lexer": "ipython3",
   "version": "3.8.8"
  },
  "orig_nbformat": 4,
  "vscode": {
   "interpreter": {
    "hash": "8761cdb9765bcae96d62febb66cb232c06e88303db4bdff047a89cac81065564"
   }
  }
 },
 "nbformat": 4,
 "nbformat_minor": 2
}
