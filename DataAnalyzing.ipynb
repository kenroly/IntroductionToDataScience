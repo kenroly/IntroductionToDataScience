{
 "cells": [
  {
   "cell_type": "markdown",
   "metadata": {},
   "source": [
    "# 0. Import Library"
   ]
  },
  {
   "cell_type": "code",
   "execution_count": 1,
   "metadata": {},
   "outputs": [],
   "source": [
    "import pandas as pd\n",
    "import numpy as np\n",
    "import matplotlib.pyplot as plt\n",
    "import seaborn as sns   \n",
    "import warnings\n",
    "import plotly.express as px\n",
    "import plotly.graph_objects as go\n",
    "\n",
    "sns.set_theme(style=\"darkgrid\")\n",
    "warnings.filterwarnings('ignore')"
   ]
  },
  {
   "cell_type": "code",
   "execution_count": 2,
   "metadata": {},
   "outputs": [
    {
     "data": {
      "text/html": [
       "<div>\n",
       "<style scoped>\n",
       "    .dataframe tbody tr th:only-of-type {\n",
       "        vertical-align: middle;\n",
       "    }\n",
       "\n",
       "    .dataframe tbody tr th {\n",
       "        vertical-align: top;\n",
       "    }\n",
       "\n",
       "    .dataframe thead th {\n",
       "        text-align: right;\n",
       "    }\n",
       "</style>\n",
       "<table border=\"1\" class=\"dataframe\">\n",
       "  <thead>\n",
       "    <tr style=\"text-align: right;\">\n",
       "      <th></th>\n",
       "      <th>Rank</th>\n",
       "      <th>Name</th>\n",
       "      <th>Ranked2021</th>\n",
       "      <th>Ranked2020</th>\n",
       "      <th>Country</th>\n",
       "      <th>Sector</th>\n",
       "      <th>CAGR</th>\n",
       "      <th>Revenue2020</th>\n",
       "      <th>Revenue2017</th>\n",
       "      <th>Employees2020</th>\n",
       "      <th>Employees2017</th>\n",
       "      <th>FoundingYear</th>\n",
       "      <th>Country1</th>\n",
       "      <th>Sector1</th>\n",
       "    </tr>\n",
       "  </thead>\n",
       "  <tbody>\n",
       "    <tr>\n",
       "      <th>0</th>\n",
       "      <td>1</td>\n",
       "      <td>Swappie</td>\n",
       "      <td>No</td>\n",
       "      <td>No</td>\n",
       "      <td>Finland</td>\n",
       "      <td>Technology</td>\n",
       "      <td>477.43</td>\n",
       "      <td>97611814</td>\n",
       "      <td>507000</td>\n",
       "      <td>218</td>\n",
       "      <td>1</td>\n",
       "      <td>2016</td>\n",
       "      <td>Finland</td>\n",
       "      <td>Technology</td>\n",
       "    </tr>\n",
       "    <tr>\n",
       "      <th>1</th>\n",
       "      <td>2</td>\n",
       "      <td>Kilo Health</td>\n",
       "      <td>No</td>\n",
       "      <td>No</td>\n",
       "      <td>Lithuania</td>\n",
       "      <td>Health</td>\n",
       "      <td>450.05</td>\n",
       "      <td>57318766</td>\n",
       "      <td>344428</td>\n",
       "      <td>177</td>\n",
       "      <td>10</td>\n",
       "      <td>2013</td>\n",
       "      <td>Lithuania</td>\n",
       "      <td>Health</td>\n",
       "    </tr>\n",
       "    <tr>\n",
       "      <th>2</th>\n",
       "      <td>3</td>\n",
       "      <td>OCI</td>\n",
       "      <td>No</td>\n",
       "      <td>No</td>\n",
       "      <td>UK</td>\n",
       "      <td>Financial Services</td>\n",
       "      <td>409.59</td>\n",
       "      <td>568322073</td>\n",
       "      <td>4325512</td>\n",
       "      <td>32</td>\n",
       "      <td>4</td>\n",
       "      <td>2012</td>\n",
       "      <td>UK</td>\n",
       "      <td>Financial Services</td>\n",
       "    </tr>\n",
       "    <tr>\n",
       "      <th>3</th>\n",
       "      <td>4</td>\n",
       "      <td>OnlyFans</td>\n",
       "      <td>No</td>\n",
       "      <td>No</td>\n",
       "      <td>UK</td>\n",
       "      <td>Technology</td>\n",
       "      <td>393.63</td>\n",
       "      <td>316732986</td>\n",
       "      <td>2652185</td>\n",
       "      <td>800</td>\n",
       "      <td>4</td>\n",
       "      <td>2016</td>\n",
       "      <td>UK</td>\n",
       "      <td>Technology</td>\n",
       "    </tr>\n",
       "    <tr>\n",
       "      <th>4</th>\n",
       "      <td>5</td>\n",
       "      <td>Enpal</td>\n",
       "      <td>No</td>\n",
       "      <td>No</td>\n",
       "      <td>Germany</td>\n",
       "      <td>Energy</td>\n",
       "      <td>386.88</td>\n",
       "      <td>56109613</td>\n",
       "      <td>486165</td>\n",
       "      <td>365</td>\n",
       "      <td>9</td>\n",
       "      <td>2017</td>\n",
       "      <td>Germany</td>\n",
       "      <td>Energy</td>\n",
       "    </tr>\n",
       "  </tbody>\n",
       "</table>\n",
       "</div>"
      ],
      "text/plain": [
       "   Rank         Name Ranked2021 Ranked2020    Country              Sector  \\\n",
       "0     1      Swappie         No         No    Finland          Technology   \n",
       "1     2  Kilo Health         No         No  Lithuania              Health   \n",
       "2     3          OCI         No         No         UK  Financial Services   \n",
       "3     4     OnlyFans         No         No         UK          Technology   \n",
       "4     5        Enpal         No         No    Germany              Energy   \n",
       "\n",
       "     CAGR  Revenue2020  Revenue2017  Employees2020  Employees2017  \\\n",
       "0  477.43     97611814       507000            218              1   \n",
       "1  450.05     57318766       344428            177             10   \n",
       "2  409.59    568322073      4325512             32              4   \n",
       "3  393.63    316732986      2652185            800              4   \n",
       "4  386.88     56109613       486165            365              9   \n",
       "\n",
       "   FoundingYear   Country1             Sector1  \n",
       "0          2016    Finland          Technology  \n",
       "1          2013  Lithuania              Health  \n",
       "2          2012         UK  Financial Services  \n",
       "3          2016         UK          Technology  \n",
       "4          2017    Germany              Energy  "
      ]
     },
     "execution_count": 2,
     "metadata": {},
     "output_type": "execute_result"
    }
   ],
   "source": [
    "df = pd.read_csv('data/FT1000_v1.csv')\n",
    "df.head()"
   ]
  },
  {
   "cell_type": "markdown",
   "metadata": {},
   "source": [
    "## 4.3. Câu hỏi 3\n",
    "**Câu hỏi**: Lĩnh vực nào có nhiều công ty phát triển nhanh bền vững?\n",
    "\n",
    "**Ý nghĩa**: Bảng xếp hạng FT1000 năm 2022 chỉ cho thấy các công ty phát triển nhanh trong giai đoạn 2017 - 2020. Trong số các công ty này, có những công ty mới được xếp hạng năm nay (không có trong bảng xếp hạng 2 năm trước), những công ty xuất hiện chỉ xong 1 bảng xếp hạng (năm 2020 hoặc 2021) và những công ty xuất hiện trong cả hai bảng xếp hạng năm 2020 và 2021. Những công ty xuất hiện trong bảng xếp hạng 3 năm liên tiếp được xem là công ty phát triển bền vững, có thể tiếp tục phát triển trong tương lai. Biết được lĩnh vực của các công ty này, các nhà đầu tư có thể lựa chọn công ty phù hợp để đầu tư. Ở đây ta chỉ xét các lĩnh vực có từ 5 công ty trở lên phát triển nhanh bền vững"
   ]
  },
  {
   "cell_type": "code",
   "execution_count": 3,
   "metadata": {},
   "outputs": [
    {
     "data": {
      "image/png": "[encoded data removed]",
      "text/plain": [
       "<Figure size 1000x600 with 1 Axes>"
      ]
     },
     "metadata": {},
     "output_type": "display_data"
    }
   ],
   "source": [
    "data = df[(df['Ranked2020'] == 'Yes') & (df['Ranked2021'] == 'Yes')]['Sector'].value_counts().reset_index()\n",
    "data = data[data['Sector'] >= 5] \n",
    "\n",
    "plt.figure(figsize=(10, 6))\n",
    "ax = sns.barplot(x = 'index', y = 'Sector', data = data, color = 'C0')\n",
    "\n",
    "ax.set_ylim(0, data['Sector'].max() * 1.1)\n",
    "ax.set_xlabel('')\n",
    "ax.set_ylabel('')\n",
    "ax.set_yticklabels('')\n",
    "\n",
    "dis_from_top = 0.02 * data['Sector'].max()\n",
    "\n",
    "for p in ax.patches:\n",
    "    ax.annotate(int(p.get_height()), (p.get_x() + p.get_width() / 2, p.get_height() + dis_from_top), ha = 'center')\n",
    "\n",
    "ax.set_xticklabels(ax.get_xticklabels(), rotation = 45, ha = 'right');"
   ]
  }
 ],
 "metadata": {
  "kernelspec": {
   "display_name": "Python 3.8.8 ('min_ds-env')",
   "language": "python",
   "name": "python3"
  },
  "language_info": {
   "codemirror_mode": {
    "name": "ipython",
    "version": 3
   },
   "file_extension": ".py",
   "mimetype": "text/x-python",
   "name": "python",
   "nbconvert_exporter": "python",
   "pygments_lexer": "ipython3",
   "version": "3.8.8"
  },
  "orig_nbformat": 4,
  "vscode": {
   "interpreter": {
    "hash": "ececfb6bf31042b107d3c91c66aeca0ca911791a1728d26b711567c0789e643e"
   }
  }
 },
 "nbformat": 4,
 "nbformat_minor": 2
}
