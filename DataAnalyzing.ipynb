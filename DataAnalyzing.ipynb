{
 "cells": [
  {
   "cell_type": "markdown",
   "metadata": {},
   "source": [
    "# 0. Import Library"
   ]
  },
  {
   "cell_type": "code",
   "execution_count": 21,
   "metadata": {},
   "outputs": [],
   "source": [
    "import pandas as pd\n",
    "import numpy as np\n",
    "import matplotlib.pyplot as plt\n",
    "import seaborn as sns   \n",
    "import warnings\n",
    "import plotly.express as px\n",
    "import plotly.graph_objects as go\n",
    "\n",
    "sns.set_theme(style=\"darkgrid\")\n",
    "warnings.filterwarnings('ignore')"
   ]
  },
  {
   "cell_type": "code",
   "execution_count": 22,
   "metadata": {},
   "outputs": [
    {
     "data": {
      "text/html": [
       "<div>\n",
       "<style scoped>\n",
       "    .dataframe tbody tr th:only-of-type {\n",
       "        vertical-align: middle;\n",
       "    }\n",
       "\n",
       "    .dataframe tbody tr th {\n",
       "        vertical-align: top;\n",
       "    }\n",
       "\n",
       "    .dataframe thead th {\n",
       "        text-align: right;\n",
       "    }\n",
       "</style>\n",
       "<table border=\"1\" class=\"dataframe\">\n",
       "  <thead>\n",
       "    <tr style=\"text-align: right;\">\n",
       "      <th></th>\n",
       "      <th>Rank</th>\n",
       "      <th>Name</th>\n",
       "      <th>Ranked2021</th>\n",
       "      <th>Ranked2020</th>\n",
       "      <th>Country</th>\n",
       "      <th>Sector</th>\n",
       "      <th>CAGR</th>\n",
       "      <th>Revenue2020</th>\n",
       "      <th>Revenue2017</th>\n",
       "      <th>Employees2020</th>\n",
       "      <th>Employees2017</th>\n",
       "      <th>FoundingYear</th>\n",
       "      <th>Country1</th>\n",
       "      <th>Sector1</th>\n",
       "    </tr>\n",
       "  </thead>\n",
       "  <tbody>\n",
       "    <tr>\n",
       "      <th>0</th>\n",
       "      <td>1</td>\n",
       "      <td>Swappie</td>\n",
       "      <td>No</td>\n",
       "      <td>No</td>\n",
       "      <td>Finland</td>\n",
       "      <td>Technology</td>\n",
       "      <td>477.43</td>\n",
       "      <td>97611814</td>\n",
       "      <td>507000</td>\n",
       "      <td>218</td>\n",
       "      <td>1</td>\n",
       "      <td>2016</td>\n",
       "      <td>Finland</td>\n",
       "      <td>Technology</td>\n",
       "    </tr>\n",
       "    <tr>\n",
       "      <th>1</th>\n",
       "      <td>2</td>\n",
       "      <td>Kilo Health</td>\n",
       "      <td>No</td>\n",
       "      <td>No</td>\n",
       "      <td>Lithuania</td>\n",
       "      <td>Health</td>\n",
       "      <td>450.05</td>\n",
       "      <td>57318766</td>\n",
       "      <td>344428</td>\n",
       "      <td>177</td>\n",
       "      <td>10</td>\n",
       "      <td>2013</td>\n",
       "      <td>Lithuania</td>\n",
       "      <td>Health</td>\n",
       "    </tr>\n",
       "    <tr>\n",
       "      <th>2</th>\n",
       "      <td>3</td>\n",
       "      <td>OCI</td>\n",
       "      <td>No</td>\n",
       "      <td>No</td>\n",
       "      <td>UK</td>\n",
       "      <td>Financial Services</td>\n",
       "      <td>409.59</td>\n",
       "      <td>568322073</td>\n",
       "      <td>4325512</td>\n",
       "      <td>32</td>\n",
       "      <td>4</td>\n",
       "      <td>2012</td>\n",
       "      <td>UK</td>\n",
       "      <td>Financial Services</td>\n",
       "    </tr>\n",
       "    <tr>\n",
       "      <th>3</th>\n",
       "      <td>4</td>\n",
       "      <td>OnlyFans</td>\n",
       "      <td>No</td>\n",
       "      <td>No</td>\n",
       "      <td>UK</td>\n",
       "      <td>Technology</td>\n",
       "      <td>393.63</td>\n",
       "      <td>316732986</td>\n",
       "      <td>2652185</td>\n",
       "      <td>800</td>\n",
       "      <td>4</td>\n",
       "      <td>2016</td>\n",
       "      <td>UK</td>\n",
       "      <td>Technology</td>\n",
       "    </tr>\n",
       "    <tr>\n",
       "      <th>4</th>\n",
       "      <td>5</td>\n",
       "      <td>Enpal</td>\n",
       "      <td>No</td>\n",
       "      <td>No</td>\n",
       "      <td>Germany</td>\n",
       "      <td>Energy</td>\n",
       "      <td>386.88</td>\n",
       "      <td>56109613</td>\n",
       "      <td>486165</td>\n",
       "      <td>365</td>\n",
       "      <td>9</td>\n",
       "      <td>2017</td>\n",
       "      <td>Germany</td>\n",
       "      <td>Energy</td>\n",
       "    </tr>\n",
       "  </tbody>\n",
       "</table>\n",
       "</div>"
      ],
      "text/plain": [
       "   Rank         Name Ranked2021 Ranked2020    Country              Sector  \\\n",
       "0     1      Swappie         No         No    Finland          Technology   \n",
       "1     2  Kilo Health         No         No  Lithuania              Health   \n",
       "2     3          OCI         No         No         UK  Financial Services   \n",
       "3     4     OnlyFans         No         No         UK          Technology   \n",
       "4     5        Enpal         No         No    Germany              Energy   \n",
       "\n",
       "     CAGR  Revenue2020  Revenue2017  Employees2020  Employees2017  \\\n",
       "0  477.43     97611814       507000            218              1   \n",
       "1  450.05     57318766       344428            177             10   \n",
       "2  409.59    568322073      4325512             32              4   \n",
       "3  393.63    316732986      2652185            800              4   \n",
       "4  386.88     56109613       486165            365              9   \n",
       "\n",
       "   FoundingYear   Country1             Sector1  \n",
       "0          2016    Finland          Technology  \n",
       "1          2013  Lithuania              Health  \n",
       "2          2012         UK  Financial Services  \n",
       "3          2016         UK          Technology  \n",
       "4          2017    Germany              Energy  "
      ]
     },
     "execution_count": 22,
     "metadata": {},
     "output_type": "execute_result"
    }
   ],
   "source": [
    "df = pd.read_csv('data/FT1000_v1.csv')\n",
    "df.head()"
   ]
  },
  {
   "cell_type": "markdown",
   "metadata": {},
   "source": [
    "# 4. Data Analyzing\n",
    "## 4.1. Câu hỏi 1 \n",
    "**Câu hỏi:** Lĩnh vực có tốc độ tăng trưởng nhanh nhất ở các nước\n",
    "\n",
    "**Ý nghĩa:** Biết được lĩnh vực có tốc độ tăng trưởng nhanh ở từng nước, các stakeholder (có thể là chính phủ các nước, EU,...) sẽ có chính sách phù hợp để phân bổ nhân lực, vật lực phù hợp để tiếp tục đẩy mạnh phát triển lĩnh vực đó"
   ]
  },
  {
   "cell_type": "code",
   "execution_count": 23,
   "metadata": {},
   "outputs": [],
   "source": [
    "data = df[['Country', 'Sector', 'CAGR']].groupby(['Country', 'Sector']).sum().reset_index().sort_values(by=['CAGR'], ascending=False)\n",
    "data.drop_duplicates(subset = ['Country'], keep = 'first', inplace = True)"
   ]
  },
  {
   "cell_type": "code",
   "execution_count": 24,
   "metadata": {},
   "outputs": [
    {
     "ename": "ValueError",
     "evalue": "Mime type rendering requires nbformat>=4.2.0 but it is not installed",
     "output_type": "error",
     "traceback": [
      "\u001b[0;31m---------------------------------------------------------------------------\u001b[0m",
      "\u001b[0;31mValueError\u001b[0m                                Traceback (most recent call last)",
      "Cell \u001b[0;32mIn [24], line 17\u001b[0m\n\u001b[1;32m      1\u001b[0m fig \u001b[39m=\u001b[39m px\u001b[39m.\u001b[39mchoropleth(\n\u001b[1;32m      2\u001b[0m     data_frame \u001b[39m=\u001b[39m data, locations \u001b[39m=\u001b[39m \u001b[39m'\u001b[39m\u001b[39mCountry\u001b[39m\u001b[39m'\u001b[39m, locationmode \u001b[39m=\u001b[39m \u001b[39m'\u001b[39m\u001b[39mcountry names\u001b[39m\u001b[39m'\u001b[39m, color \u001b[39m=\u001b[39m \u001b[39m'\u001b[39m\u001b[39mSector\u001b[39m\u001b[39m'\u001b[39m, \n\u001b[1;32m      3\u001b[0m     color_discrete_sequence\u001b[39m=\u001b[39mpx\u001b[39m.\u001b[39mcolors\u001b[39m.\u001b[39mqualitative\u001b[39m.\u001b[39mBold, width \u001b[39m=\u001b[39m \u001b[39m800\u001b[39m, height \u001b[39m=\u001b[39m \u001b[39m600\u001b[39m)\n\u001b[1;32m      5\u001b[0m fig\u001b[39m.\u001b[39mupdate_layout(\n\u001b[1;32m      6\u001b[0m     title \u001b[39m=\u001b[39m \u001b[39m'\u001b[39m\u001b[39mSector with highest CAGR sum by Country\u001b[39m\u001b[39m'\u001b[39m,\n\u001b[1;32m      7\u001b[0m     title_x \u001b[39m=\u001b[39m \u001b[39m0.5\u001b[39m,\n\u001b[0;32m   (...)\u001b[0m\n\u001b[1;32m     15\u001b[0m     )\n\u001b[1;32m     16\u001b[0m )\n\u001b[0;32m---> 17\u001b[0m fig\u001b[39m.\u001b[39;49mshow()\n",
      "File \u001b[0;32m/usr/local/lib/python3.10/dist-packages/plotly/basedatatypes.py:3398\u001b[0m, in \u001b[0;36mBaseFigure.show\u001b[0;34m(self, *args, **kwargs)\u001b[0m\n\u001b[1;32m   3365\u001b[0m \u001b[39m\"\"\"\u001b[39;00m\n\u001b[1;32m   3366\u001b[0m \u001b[39mShow a figure using either the default renderer(s) or the renderer(s)\u001b[39;00m\n\u001b[1;32m   3367\u001b[0m \u001b[39mspecified by the renderer argument\u001b[39;00m\n\u001b[0;32m   (...)\u001b[0m\n\u001b[1;32m   3394\u001b[0m \u001b[39mNone\u001b[39;00m\n\u001b[1;32m   3395\u001b[0m \u001b[39m\"\"\"\u001b[39;00m\n\u001b[1;32m   3396\u001b[0m \u001b[39mimport\u001b[39;00m \u001b[39mplotly\u001b[39;00m\u001b[39m.\u001b[39;00m\u001b[39mio\u001b[39;00m \u001b[39mas\u001b[39;00m \u001b[39mpio\u001b[39;00m\n\u001b[0;32m-> 3398\u001b[0m \u001b[39mreturn\u001b[39;00m pio\u001b[39m.\u001b[39;49mshow(\u001b[39mself\u001b[39;49m, \u001b[39m*\u001b[39;49margs, \u001b[39m*\u001b[39;49m\u001b[39m*\u001b[39;49mkwargs)\n",
      "File \u001b[0;32m/usr/local/lib/python3.10/dist-packages/plotly/io/_renderers.py:396\u001b[0m, in \u001b[0;36mshow\u001b[0;34m(fig, renderer, validate, **kwargs)\u001b[0m\n\u001b[1;32m    391\u001b[0m         \u001b[39mraise\u001b[39;00m \u001b[39mValueError\u001b[39;00m(\n\u001b[1;32m    392\u001b[0m             \u001b[39m\"\u001b[39m\u001b[39mMime type rendering requires ipython but it is not installed\u001b[39m\u001b[39m\"\u001b[39m\n\u001b[1;32m    393\u001b[0m         )\n\u001b[1;32m    395\u001b[0m     \u001b[39mif\u001b[39;00m \u001b[39mnot\u001b[39;00m nbformat \u001b[39mor\u001b[39;00m LooseVersion(nbformat\u001b[39m.\u001b[39m__version__) \u001b[39m<\u001b[39m LooseVersion(\u001b[39m\"\u001b[39m\u001b[39m4.2.0\u001b[39m\u001b[39m\"\u001b[39m):\n\u001b[0;32m--> 396\u001b[0m         \u001b[39mraise\u001b[39;00m \u001b[39mValueError\u001b[39;00m(\n\u001b[1;32m    397\u001b[0m             \u001b[39m\"\u001b[39m\u001b[39mMime type rendering requires nbformat>=4.2.0 but it is not installed\u001b[39m\u001b[39m\"\u001b[39m\n\u001b[1;32m    398\u001b[0m         )\n\u001b[1;32m    400\u001b[0m     ipython_display\u001b[39m.\u001b[39mdisplay(bundle, raw\u001b[39m=\u001b[39m\u001b[39mTrue\u001b[39;00m)\n\u001b[1;32m    402\u001b[0m \u001b[39m# external renderers\u001b[39;00m\n",
      "\u001b[0;31mValueError\u001b[0m: Mime type rendering requires nbformat>=4.2.0 but it is not installed"
     ]
    }
   ],
   "source": [
    "fig = px.choropleth(\n",
    "    data_frame = data, locations = 'Country', locationmode = 'country names', color = 'Sector', \n",
    "    color_discrete_sequence=px.colors.qualitative.Bold, width = 800, height = 600)\n",
    "    \n",
    "fig.update_layout(\n",
    "    title = 'Sector with highest CAGR sum by Country',\n",
    "    title_x = 0.5,\n",
    "    legend = dict(\n",
    "        # orientation = 'h', x = 1, y = 1, xanchor = 'right', yanchor = 'top',\n",
    "    ), \n",
    "    margin = {'t': 30, 'b': 0, 'l': 0, 'r': 0},\n",
    "    geo = go.layout.Geo(\n",
    "        projection = go.layout.geo.Projection(scale = 1.5),\n",
    "        scope = 'europe',\n",
    "    )\n",
    ")\n",
    "fig.show()"
   ]
  },
  {
   "cell_type": "markdown",
   "metadata": {},
   "source": [
    "Đa số các nước có tổng CAGR cao nhất ở lĩnh vực Technology (Công nghệ), một số lĩnh vực khác chiếm lĩnh vị trí CAGR cao nhất ở một vài nước là Energy (Năng lượng), Health (Sức khỏe). "
   ]
  },
  {
   "cell_type": "markdown",
   "metadata": {},
   "source": [
    "## 4.2. Câu hỏi 2\n",
    "**Câu hỏi**: Quốc gia nào có tốc độ tăng trưởng cao ở nhiều lĩnh vực"
   ]
  },
  {
   "cell_type": "code",
   "execution_count": null,
   "metadata": {},
   "outputs": [],
   "source": [
    "data = df[['Country', 'Sector']].value_counts().reset_index()[['Country', 'Sector']].groupby('Country').count().reset_index()\n",
    "\n",
    "fig = px.choropleth(\n",
    "    data_frame = data, locations = 'Country', locationmode = 'country names', color = 'Sector', \n",
    "    color_discrete_sequence=px.colors.qualitative.Bold, width = 800, height = 600)\n",
    "    \n",
    "fig.update_layout(\n",
    "    title = 'Sector count by Country',\n",
    "    title_x = 0.5,\n",
    "    legend = dict(\n",
    "        # orientation = 'h', x = 1, y = 1, xanchor = 'right', yanchor = 'top',\n",
    "    ), \n",
    "    margin = {'t': 30, 'b': 0, 'l': 0, 'r': 0},\n",
    "    geo = go.layout.Geo(\n",
    "        projection = go.layout.geo.Projection(scale = 1.5),\n",
    "        scope = 'europe',\n",
    "    )\n",
    ")\n",
    "fig.show()"
   ]
  },
  {
   "attachments": {},
   "cell_type": "markdown",
   "metadata": {},
   "source": [
    "## 4.4. Câu hỏi 4\n",
    "**Câu hỏi**: So sánh mức độ tăng trưởng và doanh thu của các công ty có từ 5 nhân viên trở xuống so với các công ty có hơn 5 nhân viên ở năm 2017\n",
    "\n",
    "**Ý nghĩa**: Cũng tương tự các câu hỏi trên, các công ty có từ 5 nhân viên trở xuống ở năm 2017 nhưng được xếp hạng vào FT1000 phần nào đó chứng tỏ tiềm năng phát triển tốt hơn nữa trong tương lai. Tuy nhiên ta cần so sánh về doanh thu cũng như mức độ tăng trưởng của 2 nhóm để có thể đưa ra quyết định đầu tư đúng dắn hơn"
   ]
  },
  {
   "cell_type": "code",
   "execution_count": null,
   "metadata": {},
   "outputs": [
    {
     "data": {
      "image/png": "[encoded data removed]",
      "text/plain": [
       "<Figure size 1100x600 with 2 Axes>"
      ]
     },
     "metadata": {},
     "output_type": "display_data"
    }
   ],
   "source": [
    "fig, axes = plt.subplots(ncols = 2, figsize = (11, 6))\n",
    "fig.subplots_adjust(wspace = 0.3)\n",
    "\n",
    "sns.boxplot(\n",
    "    x = df['Employees2017'] <= 5,\n",
    "    y = df['Revenue2020'], \n",
    "    ax = axes[0]\n",
    ")\n",
    "\n",
    "sns.boxplot(\n",
    "    x = df['Employees2017'] <= 5,\n",
    "    y = df['CAGR'],\n",
    "    ax = axes[1],\n",
    ")\n",
    "\n",
    "axes[0].set_xlabel('Employees 2017')\n",
    "axes[1].set_xlabel('Employees 2017')\n",
    "axes[0].set_xticklabels(['> 5', '<= 5'])\n",
    "axes[1].set_xticklabels(['> 5', '<= 5'])\n",
    "axes[0].set_yscale('log')"
   ]
  }
 ],
 "metadata": {
  "kernelspec": {
   "display_name": "Python 3",
   "language": "python",
   "name": "python3"
  },
  "language_info": {
   "codemirror_mode": {
    "name": "ipython",
    "version": 3
   },
   "file_extension": ".py",
   "mimetype": "text/x-python",
   "name": "python",
   "nbconvert_exporter": "python",
   "pygments_lexer": "ipython3",
   "version": "3.10.6"
  },
  "orig_nbformat": 4,
  "vscode": {
   "interpreter": {
    "hash": "916dbcbb3f70747c44a77c7bcd40155683ae19c65e1c03b4aa3499c5328201f1"
   }
  }
 },
 "nbformat": 4,
 "nbformat_minor": 2
}
